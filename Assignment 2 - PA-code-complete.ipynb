{
 "cells": [
  {
   "cell_type": "code",
   "execution_count": 1,
   "id": "9e768754",
   "metadata": {},
   "outputs": [],
   "source": [
    "import numpy as np\n",
    "import pandas as pd\n",
    "import matplotlib.pyplot as plt\n",
    "import seaborn as sns\n",
    "import warnings\n",
    "warnings.filterwarnings(\"ignore\")\n",
    "\n",
    "from sklearn.preprocessing import StandardScaler\n",
    "from sklearn.model_selection import train_test_split\n",
    "from sklearn.svm import SVC, LinearSVR, LinearSVC\n",
    "from sklearn.metrics import accuracy_score, confusion_matrix\n",
    "from sklearn.model_selection import GridSearchCV\n",
    "from sklearn.naive_bayes import GaussianNB"
   ]
  },
  {
   "cell_type": "code",
   "execution_count": 2,
   "id": "404e5ab3",
   "metadata": {},
   "outputs": [],
   "source": [
    "dataset1 = pd.read_csv(\"/Users/harikrishna/Desktop/Assignment 2/data2021.csv\", encoding = 'unicode_escape')\n",
    "dataset2 = pd.read_csv(\"/Users/harikrishna/Desktop/Assignment 2/data2022.csv\", encoding = 'unicode_escape')\n",
    "dataset3 = pd.read_csv(\"/Users/harikrishna/Desktop/Assignment 2/data2020.csv\", encoding = 'unicode_escape')"
   ]
  },
  {
   "cell_type": "code",
   "execution_count": 3,
   "id": "b5e84da2",
   "metadata": {},
   "outputs": [],
   "source": [
    "cols = dataset1.columns[0:45]\n",
    "dataset1 = dataset1[cols]\n",
    "dataset3 = dataset3[cols]"
   ]
  },
  {
   "cell_type": "code",
   "execution_count": 4,
   "id": "3e4eae38",
   "metadata": {},
   "outputs": [],
   "source": [
    "dataset1['Year'] = 2021\n",
    "dataset2['Year'] = 2022\n",
    "dataset3['Year'] = 2020"
   ]
  },
  {
   "cell_type": "code",
   "execution_count": 5,
   "id": "3ebd6dde",
   "metadata": {},
   "outputs": [],
   "source": [
    "mainData = pd.concat([dataset1, dataset2, dataset3], axis = 0)\n",
    "mainData = mainData.sort_values(\"Manufacturer\", ascending= True)\n",
    "mainData = mainData.reset_index(drop = True)\n",
    "#mainData = mainData[:11260]"
   ]
  },
  {
   "cell_type": "code",
   "execution_count": 6,
   "id": "cd5e0489",
   "metadata": {
    "scrolled": true
   },
   "outputs": [
    {
     "data": {
      "text/html": [
       "<div>\n",
       "<style scoped>\n",
       "    .dataframe tbody tr th:only-of-type {\n",
       "        vertical-align: middle;\n",
       "    }\n",
       "\n",
       "    .dataframe tbody tr th {\n",
       "        vertical-align: top;\n",
       "    }\n",
       "\n",
       "    .dataframe thead th {\n",
       "        text-align: right;\n",
       "    }\n",
       "</style>\n",
       "<table border=\"1\" class=\"dataframe\">\n",
       "  <thead>\n",
       "    <tr style=\"text-align: right;\">\n",
       "      <th></th>\n",
       "      <th>Manufacturer</th>\n",
       "      <th>Model</th>\n",
       "      <th>Description</th>\n",
       "      <th>Transmission</th>\n",
       "      <th>Engine Capacity</th>\n",
       "      <th>Fuel Type</th>\n",
       "      <th>Powertrain</th>\n",
       "      <th>Engine Power (Kw)</th>\n",
       "      <th>Engine Power (PS)</th>\n",
       "      <th>Testing Scheme</th>\n",
       "      <th>...</th>\n",
       "      <th>Total cost / 10000 miles</th>\n",
       "      <th>Noise Level dB(A)</th>\n",
       "      <th>Emissions CO [mg/km]</th>\n",
       "      <th>THC Emissions [mg/km]</th>\n",
       "      <th>Emissions NOx [mg/km]</th>\n",
       "      <th>THC + NOx Emissions [mg/km]</th>\n",
       "      <th>Particulates [No.] [mg/km]</th>\n",
       "      <th>RDE NOx Urban</th>\n",
       "      <th>RDE NOx Combined</th>\n",
       "      <th>Year</th>\n",
       "    </tr>\n",
       "  </thead>\n",
       "  <tbody>\n",
       "    <tr>\n",
       "      <th>0</th>\n",
       "      <td>ABARTH</td>\n",
       "      <td>595</td>\n",
       "      <td>1.4 TJET 145bhp</td>\n",
       "      <td>M5</td>\n",
       "      <td>1368.0</td>\n",
       "      <td>Petrol</td>\n",
       "      <td>Internal Combustion Engine (ICE)</td>\n",
       "      <td>107.0</td>\n",
       "      <td>145.0</td>\n",
       "      <td>WLTP</td>\n",
       "      <td>...</td>\n",
       "      <td>£1,325</td>\n",
       "      <td>74.0</td>\n",
       "      <td>829.0</td>\n",
       "      <td>39.0</td>\n",
       "      <td>20.0</td>\n",
       "      <td>NaN</td>\n",
       "      <td>NaN</td>\n",
       "      <td>NaN</td>\n",
       "      <td>NaN</td>\n",
       "      <td>2021</td>\n",
       "    </tr>\n",
       "    <tr>\n",
       "      <th>1</th>\n",
       "      <td>ABARTH</td>\n",
       "      <td>595</td>\n",
       "      <td>595 Pista 1.4 TJET 165 BHP</td>\n",
       "      <td>M5</td>\n",
       "      <td>1368.0</td>\n",
       "      <td>Petrol</td>\n",
       "      <td>Internal Combustion Engine (ICE)</td>\n",
       "      <td>121.0</td>\n",
       "      <td>165.0</td>\n",
       "      <td>WLTP</td>\n",
       "      <td>...</td>\n",
       "      <td>£1,487</td>\n",
       "      <td>73.5</td>\n",
       "      <td>781.0</td>\n",
       "      <td>32.0</td>\n",
       "      <td>19.0</td>\n",
       "      <td>NaN</td>\n",
       "      <td>NaN</td>\n",
       "      <td>NaN</td>\n",
       "      <td>NaN</td>\n",
       "      <td>2020</td>\n",
       "    </tr>\n",
       "    <tr>\n",
       "      <th>2</th>\n",
       "      <td>ABARTH</td>\n",
       "      <td>595</td>\n",
       "      <td>595 Pista 1.4 TJET 165 BHP</td>\n",
       "      <td>M5</td>\n",
       "      <td>1368.0</td>\n",
       "      <td>Petrol</td>\n",
       "      <td>Internal Combustion Engine (ICE)</td>\n",
       "      <td>121.0</td>\n",
       "      <td>165.0</td>\n",
       "      <td>WLTP</td>\n",
       "      <td>...</td>\n",
       "      <td>£1,410</td>\n",
       "      <td>73.5</td>\n",
       "      <td>781.0</td>\n",
       "      <td>32.0</td>\n",
       "      <td>19.0</td>\n",
       "      <td>NaN</td>\n",
       "      <td>NaN</td>\n",
       "      <td>NaN</td>\n",
       "      <td>NaN</td>\n",
       "      <td>2020</td>\n",
       "    </tr>\n",
       "    <tr>\n",
       "      <th>3</th>\n",
       "      <td>ABARTH</td>\n",
       "      <td>595</td>\n",
       "      <td>595 Esseesse 1.4 TJET 180 BHP Convertible</td>\n",
       "      <td>M5</td>\n",
       "      <td>1368.0</td>\n",
       "      <td>Petrol</td>\n",
       "      <td>Internal Combustion Engine (ICE)</td>\n",
       "      <td>132.0</td>\n",
       "      <td>180.0</td>\n",
       "      <td>WLTP</td>\n",
       "      <td>...</td>\n",
       "      <td>£1,487</td>\n",
       "      <td>71.5</td>\n",
       "      <td>600.0</td>\n",
       "      <td>33.0</td>\n",
       "      <td>16.0</td>\n",
       "      <td>NaN</td>\n",
       "      <td>NaN</td>\n",
       "      <td>NaN</td>\n",
       "      <td>NaN</td>\n",
       "      <td>2020</td>\n",
       "    </tr>\n",
       "    <tr>\n",
       "      <th>4</th>\n",
       "      <td>ABARTH</td>\n",
       "      <td>595</td>\n",
       "      <td>595 Esseesse 1.4 TJET 180 BHP</td>\n",
       "      <td>M5</td>\n",
       "      <td>1368.0</td>\n",
       "      <td>Petrol</td>\n",
       "      <td>Internal Combustion Engine (ICE)</td>\n",
       "      <td>132.0</td>\n",
       "      <td>180.0</td>\n",
       "      <td>WLTP</td>\n",
       "      <td>...</td>\n",
       "      <td>£1,487</td>\n",
       "      <td>71.5</td>\n",
       "      <td>600.0</td>\n",
       "      <td>33.0</td>\n",
       "      <td>16.0</td>\n",
       "      <td>NaN</td>\n",
       "      <td>NaN</td>\n",
       "      <td>NaN</td>\n",
       "      <td>NaN</td>\n",
       "      <td>2020</td>\n",
       "    </tr>\n",
       "  </tbody>\n",
       "</table>\n",
       "<p>5 rows × 46 columns</p>\n",
       "</div>"
      ],
      "text/plain": [
       "  Manufacturer Model                                 Description Transmission  \\\n",
       "0       ABARTH   595                             1.4 TJET 145bhp           M5   \n",
       "1       ABARTH   595                 595 Pista 1.4 TJET 165 BHP            M5   \n",
       "2       ABARTH   595                 595 Pista 1.4 TJET 165 BHP            M5   \n",
       "3       ABARTH   595  595 Esseesse 1.4 TJET 180 BHP Convertible            M5   \n",
       "4       ABARTH   595               595 Esseesse 1.4 TJET 180 BHP           M5   \n",
       "\n",
       "   Engine Capacity Fuel Type                        Powertrain  \\\n",
       "0           1368.0    Petrol  Internal Combustion Engine (ICE)   \n",
       "1           1368.0    Petrol  Internal Combustion Engine (ICE)   \n",
       "2           1368.0    Petrol  Internal Combustion Engine (ICE)   \n",
       "3           1368.0    Petrol  Internal Combustion Engine (ICE)   \n",
       "4           1368.0    Petrol  Internal Combustion Engine (ICE)   \n",
       "\n",
       "   Engine Power (Kw)  Engine Power (PS) Testing Scheme  ...  \\\n",
       "0              107.0              145.0           WLTP  ...   \n",
       "1              121.0              165.0           WLTP  ...   \n",
       "2              121.0              165.0           WLTP  ...   \n",
       "3              132.0              180.0           WLTP  ...   \n",
       "4              132.0              180.0           WLTP  ...   \n",
       "\n",
       "  Total cost / 10000 miles Noise Level dB(A)  Emissions CO [mg/km]  \\\n",
       "0                   £1,325              74.0                 829.0   \n",
       "1                   £1,487              73.5                 781.0   \n",
       "2                   £1,410              73.5                 781.0   \n",
       "3                   £1,487              71.5                 600.0   \n",
       "4                   £1,487              71.5                 600.0   \n",
       "\n",
       "   THC Emissions [mg/km]  Emissions NOx [mg/km]  THC + NOx Emissions [mg/km]  \\\n",
       "0                   39.0                   20.0                          NaN   \n",
       "1                   32.0                   19.0                          NaN   \n",
       "2                   32.0                   19.0                          NaN   \n",
       "3                   33.0                   16.0                          NaN   \n",
       "4                   33.0                   16.0                          NaN   \n",
       "\n",
       "   Particulates [No.] [mg/km]  RDE NOx Urban  RDE NOx Combined  Year  \n",
       "0                         NaN            NaN               NaN  2021  \n",
       "1                         NaN            NaN               NaN  2020  \n",
       "2                         NaN            NaN               NaN  2020  \n",
       "3                         NaN            NaN               NaN  2020  \n",
       "4                         NaN            NaN               NaN  2020  \n",
       "\n",
       "[5 rows x 46 columns]"
      ]
     },
     "execution_count": 6,
     "metadata": {},
     "output_type": "execute_result"
    }
   ],
   "source": [
    "mainData.head()"
   ]
  },
  {
   "cell_type": "code",
   "execution_count": 7,
   "id": "c5ac6195",
   "metadata": {},
   "outputs": [
    {
     "data": {
      "text/plain": [
       "(16148, 46)"
      ]
     },
     "execution_count": 7,
     "metadata": {},
     "output_type": "execute_result"
    }
   ],
   "source": [
    "mainData.shape"
   ]
  },
  {
   "cell_type": "code",
   "execution_count": 8,
   "id": "4ebb9159",
   "metadata": {},
   "outputs": [
    {
     "data": {
      "text/plain": [
       "Manufacturer                                 9\n",
       "Model                                        9\n",
       "Description                                  9\n",
       "Transmission                               440\n",
       "Engine Capacity                              9\n",
       "Fuel Type                                    9\n",
       "Powertrain                                   9\n",
       "Engine Power (Kw)                          214\n",
       "Engine Power (PS)                          350\n",
       "Testing Scheme                               9\n",
       "Euro Standard                                9\n",
       "Diesel VED Supplement                        9\n",
       "Electric energy consumption Miles/kWh    11800\n",
       "wh/km                                    15131\n",
       "Maximum range (Km)                       14290\n",
       "Maximum range (Miles)                    15523\n",
       "WLTP Imperial Low                           93\n",
       "WLTP Imperial Medium                        92\n",
       "WLTP Imperial High                          92\n",
       "WLTP Imperial Extra High                    92\n",
       "WLTP Imperial Combined                      88\n",
       "WLTP Imperial Combined (Weighted)         2763\n",
       "WLTP Metric Low                             92\n",
       "WLTP Metric Medium                          92\n",
       "WLTP Metric High                            92\n",
       "WLTP Metric Extra High                      93\n",
       "WLTP Metric Combined                        98\n",
       "WLTP Metric Combined (Weighted)           2754\n",
       "WLTP CO2                                    20\n",
       "WLTP CO2 Weighted                         4512\n",
       "Equivalent All Electric Range Miles      15198\n",
       "Equivalent All Electric Range KM         14714\n",
       "Electric Range City Miles                15538\n",
       "Electric Range City Km                   14408\n",
       "Annual fuel Cost 10000 Miles                 9\n",
       "Annual Electricity cost / 10000 miles        9\n",
       "Total cost / 10000 miles                     9\n",
       "Noise Level dB(A)                            9\n",
       "Emissions CO [mg/km]                       437\n",
       "THC Emissions [mg/km]                     3808\n",
       "Emissions NOx [mg/km]                      316\n",
       "THC + NOx Emissions [mg/km]               9472\n",
       "Particulates [No.] [mg/km]                8713\n",
       "RDE NOx Urban                             9158\n",
       "RDE NOx Combined                          8399\n",
       "Year                                         0\n",
       "dtype: int64"
      ]
     },
     "execution_count": 8,
     "metadata": {},
     "output_type": "execute_result"
    }
   ],
   "source": [
    "mainData.isna().sum()"
   ]
  },
  {
   "cell_type": "code",
   "execution_count": 9,
   "id": "893449ee",
   "metadata": {},
   "outputs": [
    {
     "data": {
      "text/plain": [
       "Index(['Manufacturer', 'Model', 'Description', 'Transmission',\n",
       "       'Engine Capacity', 'Fuel Type', 'Powertrain', 'Engine Power (Kw)',\n",
       "       'Engine Power (PS)', 'Testing Scheme', 'Euro Standard',\n",
       "       'Diesel VED Supplement', 'Electric energy consumption Miles/kWh',\n",
       "       'wh/km', 'Maximum range (Km)', 'Maximum range (Miles)',\n",
       "       'WLTP Imperial Low', 'WLTP Imperial Medium', 'WLTP Imperial High',\n",
       "       'WLTP Imperial Extra High', 'WLTP Imperial Combined',\n",
       "       'WLTP Imperial Combined (Weighted)', 'WLTP Metric Low',\n",
       "       'WLTP Metric Medium', 'WLTP Metric High', 'WLTP Metric Extra High',\n",
       "       'WLTP Metric Combined', 'WLTP Metric Combined (Weighted)', 'WLTP CO2',\n",
       "       'WLTP CO2 Weighted', 'Equivalent All Electric Range Miles',\n",
       "       'Equivalent All Electric Range KM', 'Electric Range City Miles',\n",
       "       'Electric Range City Km', 'Annual fuel Cost 10000 Miles',\n",
       "       'Annual Electricity cost / 10000 miles', 'Total cost / 10000 miles',\n",
       "       'Noise Level dB(A)', 'Emissions CO [mg/km]', 'THC Emissions [mg/km]',\n",
       "       'Emissions NOx [mg/km]', 'THC + NOx Emissions [mg/km]',\n",
       "       'Particulates [No.] [mg/km]', 'RDE NOx Urban', 'RDE NOx Combined',\n",
       "       'Year'],\n",
       "      dtype='object')"
      ]
     },
     "execution_count": 9,
     "metadata": {},
     "output_type": "execute_result"
    }
   ],
   "source": [
    "mainData.columns"
   ]
  },
  {
   "cell_type": "code",
   "execution_count": 10,
   "id": "5f5884a6",
   "metadata": {},
   "outputs": [],
   "source": [
    "mainData = mainData[['Transmission','Engine Capacity', 'Fuel Type',\n",
    "                     'Powertrain','Engine Power (PS)', 'Euro Standard','Diesel VED Supplement',\n",
    "                     'Electric energy consumption Miles/kWh', 'WLTP Metric Low',\n",
    "                     'WLTP Metric Medium', 'WLTP Metric High', 'WLTP Metric Extra High',\n",
    "                     'WLTP Metric Combined', 'WLTP Metric Combined (Weighted)', 'WLTP CO2', 'Year']]"
   ]
  },
  {
   "cell_type": "code",
   "execution_count": 11,
   "id": "2724db62",
   "metadata": {},
   "outputs": [
    {
     "data": {
      "text/html": [
       "<div>\n",
       "<style scoped>\n",
       "    .dataframe tbody tr th:only-of-type {\n",
       "        vertical-align: middle;\n",
       "    }\n",
       "\n",
       "    .dataframe tbody tr th {\n",
       "        vertical-align: top;\n",
       "    }\n",
       "\n",
       "    .dataframe thead th {\n",
       "        text-align: right;\n",
       "    }\n",
       "</style>\n",
       "<table border=\"1\" class=\"dataframe\">\n",
       "  <thead>\n",
       "    <tr style=\"text-align: right;\">\n",
       "      <th></th>\n",
       "      <th>Transmission</th>\n",
       "      <th>Engine Capacity</th>\n",
       "      <th>Fuel Type</th>\n",
       "      <th>Powertrain</th>\n",
       "      <th>Engine Power (PS)</th>\n",
       "      <th>Euro Standard</th>\n",
       "      <th>Diesel VED Supplement</th>\n",
       "      <th>Electric energy consumption Miles/kWh</th>\n",
       "      <th>WLTP Metric Low</th>\n",
       "      <th>WLTP Metric Medium</th>\n",
       "      <th>WLTP Metric High</th>\n",
       "      <th>WLTP Metric Extra High</th>\n",
       "      <th>WLTP Metric Combined</th>\n",
       "      <th>WLTP Metric Combined (Weighted)</th>\n",
       "      <th>WLTP CO2</th>\n",
       "      <th>Year</th>\n",
       "    </tr>\n",
       "  </thead>\n",
       "  <tbody>\n",
       "    <tr>\n",
       "      <th>0</th>\n",
       "      <td>M5</td>\n",
       "      <td>1368.0</td>\n",
       "      <td>Petrol</td>\n",
       "      <td>Internal Combustion Engine (ICE)</td>\n",
       "      <td>145.0</td>\n",
       "      <td>Euro 6d</td>\n",
       "      <td>False</td>\n",
       "      <td>NaN</td>\n",
       "      <td>9.5</td>\n",
       "      <td>6.1</td>\n",
       "      <td>5.8</td>\n",
       "      <td>7.0</td>\n",
       "      <td>6.8</td>\n",
       "      <td>NaN</td>\n",
       "      <td>153.0</td>\n",
       "      <td>2021</td>\n",
       "    </tr>\n",
       "    <tr>\n",
       "      <th>1</th>\n",
       "      <td>M5</td>\n",
       "      <td>1368.0</td>\n",
       "      <td>Petrol</td>\n",
       "      <td>Internal Combustion Engine (ICE)</td>\n",
       "      <td>165.0</td>\n",
       "      <td>Euro 6d-TEMP</td>\n",
       "      <td>False</td>\n",
       "      <td>NaN</td>\n",
       "      <td>10.6</td>\n",
       "      <td>7.1</td>\n",
       "      <td>6.6</td>\n",
       "      <td>8.0</td>\n",
       "      <td>7.7</td>\n",
       "      <td>0.0</td>\n",
       "      <td>171.0</td>\n",
       "      <td>2020</td>\n",
       "    </tr>\n",
       "    <tr>\n",
       "      <th>2</th>\n",
       "      <td>M5</td>\n",
       "      <td>1368.0</td>\n",
       "      <td>Petrol</td>\n",
       "      <td>Internal Combustion Engine (ICE)</td>\n",
       "      <td>165.0</td>\n",
       "      <td>Euro 6d-TEMP</td>\n",
       "      <td>False</td>\n",
       "      <td>NaN</td>\n",
       "      <td>9.6</td>\n",
       "      <td>6.7</td>\n",
       "      <td>6.3</td>\n",
       "      <td>7.7</td>\n",
       "      <td>7.3</td>\n",
       "      <td>0.0</td>\n",
       "      <td>165.0</td>\n",
       "      <td>2020</td>\n",
       "    </tr>\n",
       "    <tr>\n",
       "      <th>3</th>\n",
       "      <td>M5</td>\n",
       "      <td>1368.0</td>\n",
       "      <td>Petrol</td>\n",
       "      <td>Internal Combustion Engine (ICE)</td>\n",
       "      <td>180.0</td>\n",
       "      <td>Euro 6d-TEMP</td>\n",
       "      <td>False</td>\n",
       "      <td>NaN</td>\n",
       "      <td>10.8</td>\n",
       "      <td>7.1</td>\n",
       "      <td>6.4</td>\n",
       "      <td>8.1</td>\n",
       "      <td>7.7</td>\n",
       "      <td>0.0</td>\n",
       "      <td>171.0</td>\n",
       "      <td>2020</td>\n",
       "    </tr>\n",
       "    <tr>\n",
       "      <th>4</th>\n",
       "      <td>M5</td>\n",
       "      <td>1368.0</td>\n",
       "      <td>Petrol</td>\n",
       "      <td>Internal Combustion Engine (ICE)</td>\n",
       "      <td>180.0</td>\n",
       "      <td>Euro 6d-TEMP</td>\n",
       "      <td>False</td>\n",
       "      <td>NaN</td>\n",
       "      <td>10.8</td>\n",
       "      <td>7.1</td>\n",
       "      <td>6.4</td>\n",
       "      <td>8.1</td>\n",
       "      <td>7.7</td>\n",
       "      <td>0.0</td>\n",
       "      <td>171.0</td>\n",
       "      <td>2020</td>\n",
       "    </tr>\n",
       "  </tbody>\n",
       "</table>\n",
       "</div>"
      ],
      "text/plain": [
       "  Transmission  Engine Capacity Fuel Type                        Powertrain  \\\n",
       "0           M5           1368.0    Petrol  Internal Combustion Engine (ICE)   \n",
       "1           M5           1368.0    Petrol  Internal Combustion Engine (ICE)   \n",
       "2           M5           1368.0    Petrol  Internal Combustion Engine (ICE)   \n",
       "3           M5           1368.0    Petrol  Internal Combustion Engine (ICE)   \n",
       "4           M5           1368.0    Petrol  Internal Combustion Engine (ICE)   \n",
       "\n",
       "   Engine Power (PS) Euro Standard Diesel VED Supplement  \\\n",
       "0              145.0       Euro 6d                 False   \n",
       "1              165.0  Euro 6d-TEMP                 False   \n",
       "2              165.0  Euro 6d-TEMP                 False   \n",
       "3              180.0  Euro 6d-TEMP                 False   \n",
       "4              180.0  Euro 6d-TEMP                 False   \n",
       "\n",
       "   Electric energy consumption Miles/kWh  WLTP Metric Low  WLTP Metric Medium  \\\n",
       "0                                    NaN              9.5                 6.1   \n",
       "1                                    NaN             10.6                 7.1   \n",
       "2                                    NaN              9.6                 6.7   \n",
       "3                                    NaN             10.8                 7.1   \n",
       "4                                    NaN             10.8                 7.1   \n",
       "\n",
       "   WLTP Metric High  WLTP Metric Extra High  WLTP Metric Combined  \\\n",
       "0               5.8                     7.0                   6.8   \n",
       "1               6.6                     8.0                   7.7   \n",
       "2               6.3                     7.7                   7.3   \n",
       "3               6.4                     8.1                   7.7   \n",
       "4               6.4                     8.1                   7.7   \n",
       "\n",
       "   WLTP Metric Combined (Weighted)  WLTP CO2  Year  \n",
       "0                              NaN     153.0  2021  \n",
       "1                              0.0     171.0  2020  \n",
       "2                              0.0     165.0  2020  \n",
       "3                              0.0     171.0  2020  \n",
       "4                              0.0     171.0  2020  "
      ]
     },
     "execution_count": 11,
     "metadata": {},
     "output_type": "execute_result"
    }
   ],
   "source": [
    "mainData.head()"
   ]
  },
  {
   "cell_type": "markdown",
   "id": "b2e45dc9",
   "metadata": {},
   "source": [
    "### DATA CLEANING AND PRE-PROCESSING"
   ]
  },
  {
   "cell_type": "code",
   "execution_count": 12,
   "id": "14faf2a7",
   "metadata": {},
   "outputs": [
    {
     "data": {
      "text/plain": [
       "Transmission                               440\n",
       "Engine Capacity                              9\n",
       "Fuel Type                                    9\n",
       "Powertrain                                   9\n",
       "Engine Power (PS)                          350\n",
       "Euro Standard                                9\n",
       "Diesel VED Supplement                        9\n",
       "Electric energy consumption Miles/kWh    11800\n",
       "WLTP Metric Low                             92\n",
       "WLTP Metric Medium                          92\n",
       "WLTP Metric High                            92\n",
       "WLTP Metric Extra High                      93\n",
       "WLTP Metric Combined                        98\n",
       "WLTP Metric Combined (Weighted)           2754\n",
       "WLTP CO2                                    20\n",
       "Year                                         0\n",
       "dtype: int64"
      ]
     },
     "execution_count": 12,
     "metadata": {},
     "output_type": "execute_result"
    }
   ],
   "source": [
    "mainData.isna().sum()"
   ]
  },
  {
   "cell_type": "code",
   "execution_count": 13,
   "id": "fa8733b9",
   "metadata": {},
   "outputs": [
    {
     "data": {
      "text/plain": [
       "array(['M5', 'SAT5', 'SA5', 'M6', 'A8', 'A6', 'SA6', 'A7', 'M7', 'A9-AWD',\n",
       "       '8AT', 'A9', 'DCT7', 'DCT6', 'SAT6', nan, 'CVT', 'SA7', 'SA8',\n",
       "       'A5', 'A1', '10 Speed Automatic', 'A8-AWD', '7DCT', 'A6-AWD',\n",
       "       'M6-AWD', 'MPS6', 'MPS6-AWD', '8-speed', '6MT', '5MT', 'DCT8',\n",
       "       '6AT', 'MT5', 'AMT5', '4AT', 'MT6', '6-speed auto DCT', 'A4',\n",
       "       'AT6', 'AT1', 'E-CVT', 'A10', 'Auto', '7SP. SSG', 'AT', '8A AWD',\n",
       "       'Manual', 'Automatic', '8A-AWD', '7A-FWD'], dtype=object)"
      ]
     },
     "execution_count": 13,
     "metadata": {},
     "output_type": "execute_result"
    }
   ],
   "source": [
    "mainData[\"Transmission\"].unique()"
   ]
  },
  {
   "cell_type": "code",
   "execution_count": 14,
   "id": "d4a11c94",
   "metadata": {},
   "outputs": [],
   "source": [
    "mainData = mainData[mainData['Transmission'].notna()]"
   ]
  },
  {
   "cell_type": "code",
   "execution_count": 15,
   "id": "90f6faf0",
   "metadata": {},
   "outputs": [
    {
     "data": {
      "text/plain": [
       "Transmission                                 0\n",
       "Engine Capacity                              0\n",
       "Fuel Type                                    0\n",
       "Powertrain                                   0\n",
       "Engine Power (PS)                          173\n",
       "Euro Standard                                0\n",
       "Diesel VED Supplement                        0\n",
       "Electric energy consumption Miles/kWh    11791\n",
       "WLTP Metric Low                             10\n",
       "WLTP Metric Medium                          10\n",
       "WLTP Metric High                            10\n",
       "WLTP Metric Extra High                      10\n",
       "WLTP Metric Combined                         6\n",
       "WLTP Metric Combined (Weighted)           2597\n",
       "WLTP CO2                                    10\n",
       "Year                                         0\n",
       "dtype: int64"
      ]
     },
     "execution_count": 15,
     "metadata": {},
     "output_type": "execute_result"
    }
   ],
   "source": [
    "mainData.isna().sum()"
   ]
  },
  {
   "cell_type": "code",
   "execution_count": 16,
   "id": "9c2bea3f",
   "metadata": {},
   "outputs": [],
   "source": [
    "mainData = mainData[mainData['Engine Power (PS)'].notna()]"
   ]
  },
  {
   "cell_type": "markdown",
   "id": "c38a0b56",
   "metadata": {},
   "source": [
    "#### Electric energy consumption Miles/kWh\n",
    "\n",
    "IC engine value in all other rows is 0."
   ]
  },
  {
   "cell_type": "code",
   "execution_count": 17,
   "id": "3fdd04b7",
   "metadata": {},
   "outputs": [
    {
     "data": {
      "text/plain": [
       "Transmission                                 0\n",
       "Engine Capacity                              0\n",
       "Fuel Type                                    0\n",
       "Powertrain                                   0\n",
       "Engine Power (PS)                            0\n",
       "Euro Standard                                0\n",
       "Diesel VED Supplement                        0\n",
       "Electric energy consumption Miles/kWh    11622\n",
       "WLTP Metric Low                             10\n",
       "WLTP Metric Medium                          10\n",
       "WLTP Metric High                            10\n",
       "WLTP Metric Extra High                      10\n",
       "WLTP Metric Combined                         6\n",
       "WLTP Metric Combined (Weighted)           2462\n",
       "WLTP CO2                                    10\n",
       "Year                                         0\n",
       "dtype: int64"
      ]
     },
     "execution_count": 17,
     "metadata": {},
     "output_type": "execute_result"
    }
   ],
   "source": [
    "mainData.isna().sum()"
   ]
  },
  {
   "cell_type": "code",
   "execution_count": 18,
   "id": "57b1590b",
   "metadata": {
    "scrolled": true
   },
   "outputs": [
    {
     "data": {
      "text/plain": [
       "array(['Internal Combustion Engine (ICE)',\n",
       "       'Plug-in Hybrid Electric Vehicle (PHEV)',\n",
       "       'Hybrid Electric Vehicle (HEV)',\n",
       "       'Mild Hybrid Electric Vehicle (MHEV)',\n",
       "       'Battery Electric Vehicle (BEV) / Pure Electric Vehicle / Electric Vehicle (EV)',\n",
       "       'Micro-hybrid'], dtype=object)"
      ]
     },
     "execution_count": 18,
     "metadata": {},
     "output_type": "execute_result"
    }
   ],
   "source": [
    "mainData['Powertrain'].unique()"
   ]
  },
  {
   "cell_type": "code",
   "execution_count": 19,
   "id": "aed3720f",
   "metadata": {},
   "outputs": [],
   "source": [
    "# IC engine"
   ]
  },
  {
   "cell_type": "code",
   "execution_count": 20,
   "id": "41300f65",
   "metadata": {},
   "outputs": [],
   "source": [
    "mainData.loc[mainData['Powertrain'] == 'Internal Combustion Engine (ICE)', 'Electric energy consumption Miles/kWh'] = 0"
   ]
  },
  {
   "cell_type": "code",
   "execution_count": 21,
   "id": "65f4f81a",
   "metadata": {},
   "outputs": [],
   "source": [
    "# Plug in hybrid vehicle"
   ]
  },
  {
   "cell_type": "code",
   "execution_count": 22,
   "id": "2361f3ae",
   "metadata": {},
   "outputs": [],
   "source": [
    "phev_consumption_mean = np.mean(mainData.loc[mainData['Powertrain']== 'Plug-in Hybrid Electric Vehicle (PHEV)']['Electric energy consumption Miles/kWh'])"
   ]
  },
  {
   "cell_type": "code",
   "execution_count": 23,
   "id": "797cbf79",
   "metadata": {},
   "outputs": [
    {
     "data": {
      "text/plain": [
       "3.895571955719557"
      ]
     },
     "execution_count": 23,
     "metadata": {},
     "output_type": "execute_result"
    }
   ],
   "source": [
    "phev_consumption_mean"
   ]
  },
  {
   "cell_type": "code",
   "execution_count": 24,
   "id": "3c9fb769",
   "metadata": {},
   "outputs": [
    {
     "data": {
      "text/plain": [
       "nan"
      ]
     },
     "execution_count": 24,
     "metadata": {},
     "output_type": "execute_result"
    }
   ],
   "source": [
    "np.median(mainData.loc[mainData['Powertrain']== 'Plug-in Hybrid Electric Vehicle (PHEV)']['Electric energy consumption Miles/kWh'])"
   ]
  },
  {
   "cell_type": "code",
   "execution_count": 25,
   "id": "0ee773a4",
   "metadata": {},
   "outputs": [],
   "source": [
    "phev_consumption = mainData.loc[mainData['Powertrain']== 'Plug-in Hybrid Electric Vehicle (PHEV)']['Electric energy consumption Miles/kWh']"
   ]
  },
  {
   "cell_type": "code",
   "execution_count": 26,
   "id": "31b8ae0b",
   "metadata": {},
   "outputs": [],
   "source": [
    "phev_consumption_list = phev_consumption.to_list()"
   ]
  },
  {
   "cell_type": "code",
   "execution_count": 27,
   "id": "12b89f7e",
   "metadata": {},
   "outputs": [
    {
     "data": {
      "text/plain": [
       "(array([ 94., 133.,  27.,   3.,   3.,   6.,   3.,   0.,   0.,   2.]),\n",
       " array([ 1.6 ,  3.24,  4.88,  6.52,  8.16,  9.8 , 11.44, 13.08, 14.72,\n",
       "        16.36, 18.  ]),\n",
       " <BarContainer object of 10 artists>)"
      ]
     },
     "execution_count": 27,
     "metadata": {},
     "output_type": "execute_result"
    },
    {
     "data": {
      "image/png": "[encoded data removed]",
      "text/plain": [
       "<Figure size 640x480 with 1 Axes>"
      ]
     },
     "metadata": {},
     "output_type": "display_data"
    }
   ],
   "source": [
    "plt.hist(x = phev_consumption)"
   ]
  },
  {
   "cell_type": "code",
   "execution_count": 28,
   "id": "ba50736c",
   "metadata": {},
   "outputs": [
    {
     "data": {
      "text/plain": [
       "3.6"
      ]
     },
     "execution_count": 28,
     "metadata": {},
     "output_type": "execute_result"
    }
   ],
   "source": [
    "np.median(phev_consumption.dropna())"
   ]
  },
  {
   "cell_type": "code",
   "execution_count": 29,
   "id": "52d6617f",
   "metadata": {},
   "outputs": [],
   "source": [
    "mainData.loc[mainData['Powertrain'] == 'Plug-in Hybrid Electric Vehicle (PHEV)', 'Electric energy consumption Miles/kWh'] = 3.6"
   ]
  },
  {
   "cell_type": "code",
   "execution_count": 30,
   "id": "8a9eb4c1",
   "metadata": {},
   "outputs": [],
   "source": [
    "# Battery Electric vehicle"
   ]
  },
  {
   "cell_type": "code",
   "execution_count": 31,
   "id": "0850489f",
   "metadata": {},
   "outputs": [],
   "source": [
    "bev_consumption = mainData.loc[mainData['Powertrain'] == 'Battery Electric Vehicle (BEV) / Pure Electric Vehicle / Electric Vehicle (EV)',\n",
    "            'Electric energy consumption Miles/kWh']"
   ]
  },
  {
   "cell_type": "code",
   "execution_count": 32,
   "id": "44881f7d",
   "metadata": {
    "scrolled": true
   },
   "outputs": [
    {
     "data": {
      "text/plain": [
       "0"
      ]
     },
     "execution_count": 32,
     "metadata": {},
     "output_type": "execute_result"
    }
   ],
   "source": [
    "bev_consumption.isna().sum()"
   ]
  },
  {
   "cell_type": "code",
   "execution_count": 33,
   "id": "a9ec226c",
   "metadata": {},
   "outputs": [],
   "source": [
    "# Hybrid Electric Vehicle"
   ]
  },
  {
   "cell_type": "code",
   "execution_count": 34,
   "id": "03037a69",
   "metadata": {},
   "outputs": [],
   "source": [
    "hev_consumption = mainData.loc[mainData['Powertrain'] == 'Hybrid Electric Vehicle (HEV)', 'Electric energy consumption Miles/kWh']"
   ]
  },
  {
   "cell_type": "code",
   "execution_count": 35,
   "id": "db7fcdc6",
   "metadata": {
    "scrolled": true
   },
   "outputs": [
    {
     "data": {
      "text/plain": [
       "2195"
      ]
     },
     "execution_count": 35,
     "metadata": {},
     "output_type": "execute_result"
    }
   ],
   "source": [
    "hev_consumption.isna().sum()"
   ]
  },
  {
   "cell_type": "code",
   "execution_count": 36,
   "id": "02ab4e51",
   "metadata": {},
   "outputs": [
    {
     "data": {
      "text/plain": [
       "array([nan,  0.])"
      ]
     },
     "execution_count": 36,
     "metadata": {},
     "output_type": "execute_result"
    }
   ],
   "source": [
    "hev_consumption.unique()"
   ]
  },
  {
   "cell_type": "code",
   "execution_count": 37,
   "id": "e3a2f61c",
   "metadata": {},
   "outputs": [],
   "source": [
    "mainData.loc[mainData['Powertrain'] == 'Hybrid Electric Vehicle (HEV)', 'Electric energy consumption Miles/kWh'] = 0"
   ]
  },
  {
   "cell_type": "code",
   "execution_count": 38,
   "id": "986b80f2",
   "metadata": {},
   "outputs": [],
   "source": [
    "# Mild Hybrid Electric Vehicle"
   ]
  },
  {
   "cell_type": "code",
   "execution_count": 39,
   "id": "8bbb3da3",
   "metadata": {},
   "outputs": [],
   "source": [
    "mhev_consumption = mainData.loc[mainData['Powertrain'] == 'Mild Hybrid Electric Vehicle (MHEV)']['Electric energy consumption Miles/kWh']"
   ]
  },
  {
   "cell_type": "code",
   "execution_count": 40,
   "id": "40b55b1a",
   "metadata": {},
   "outputs": [
    {
     "data": {
      "text/plain": [
       "array([nan,  0.])"
      ]
     },
     "execution_count": 40,
     "metadata": {},
     "output_type": "execute_result"
    }
   ],
   "source": [
    "mhev_consumption.unique()"
   ]
  },
  {
   "cell_type": "code",
   "execution_count": 41,
   "id": "f91eeafb",
   "metadata": {},
   "outputs": [],
   "source": [
    "mainData.loc[mainData['Powertrain'] == 'Mild Hybrid Electric Vehicle (MHEV)', 'Electric energy consumption Miles/kWh'] = 0"
   ]
  },
  {
   "cell_type": "code",
   "execution_count": 42,
   "id": "7aa3abc1",
   "metadata": {},
   "outputs": [],
   "source": [
    "# Micro Hybrid"
   ]
  },
  {
   "cell_type": "code",
   "execution_count": 43,
   "id": "f822d665",
   "metadata": {},
   "outputs": [],
   "source": [
    "microHybrid_consumption = mainData.loc[mainData['Powertrain'] == 'Micro-hybrid']['Electric energy consumption Miles/kWh']"
   ]
  },
  {
   "cell_type": "code",
   "execution_count": 44,
   "id": "503cc327",
   "metadata": {},
   "outputs": [
    {
     "data": {
      "text/plain": [
       "array([nan])"
      ]
     },
     "execution_count": 44,
     "metadata": {},
     "output_type": "execute_result"
    }
   ],
   "source": [
    "microHybrid_consumption.unique()"
   ]
  },
  {
   "cell_type": "code",
   "execution_count": 45,
   "id": "672dd991",
   "metadata": {},
   "outputs": [],
   "source": [
    "mainData = mainData[mainData['Electric energy consumption Miles/kWh'].notna()]"
   ]
  },
  {
   "cell_type": "code",
   "execution_count": 46,
   "id": "75101043",
   "metadata": {},
   "outputs": [],
   "source": [
    "# changing the Miles value to KM value"
   ]
  },
  {
   "cell_type": "code",
   "execution_count": 47,
   "id": "61f8f1e4",
   "metadata": {},
   "outputs": [],
   "source": [
    "mainData['Electric energy consumption Miles/kWh'] = mainData['Electric energy consumption Miles/kWh'] * 1.60"
   ]
  },
  {
   "cell_type": "code",
   "execution_count": 48,
   "id": "1cfdaddf",
   "metadata": {},
   "outputs": [],
   "source": [
    "# change column name\n",
    "\n",
    "mainData.rename(columns={'Electric energy consumption Miles/kWh': 'Electric energy consumption Km/kWh'}, inplace=True)"
   ]
  },
  {
   "cell_type": "code",
   "execution_count": 49,
   "id": "a70ed5a5",
   "metadata": {
    "scrolled": true
   },
   "outputs": [
    {
     "data": {
      "text/plain": [
       "Transmission                             0\n",
       "Engine Capacity                          0\n",
       "Fuel Type                                0\n",
       "Powertrain                               0\n",
       "Engine Power (PS)                        0\n",
       "Euro Standard                            0\n",
       "Diesel VED Supplement                    0\n",
       "Electric energy consumption Km/kWh       0\n",
       "WLTP Metric Low                         10\n",
       "WLTP Metric Medium                      10\n",
       "WLTP Metric High                        10\n",
       "WLTP Metric Extra High                  10\n",
       "WLTP Metric Combined                     6\n",
       "WLTP Metric Combined (Weighted)       2450\n",
       "WLTP CO2                                10\n",
       "Year                                     0\n",
       "dtype: int64"
      ]
     },
     "execution_count": 49,
     "metadata": {},
     "output_type": "execute_result"
    }
   ],
   "source": [
    "mainData.isna().sum()"
   ]
  },
  {
   "cell_type": "markdown",
   "id": "2bcc460f",
   "metadata": {},
   "source": [
    "#### Metric Combined Weighted"
   ]
  },
  {
   "cell_type": "code",
   "execution_count": 50,
   "id": "d0f5c9e9",
   "metadata": {},
   "outputs": [],
   "source": [
    "# Internal combustion engine"
   ]
  },
  {
   "cell_type": "code",
   "execution_count": 51,
   "id": "a6bc3834",
   "metadata": {},
   "outputs": [],
   "source": [
    "mainData.loc[mainData['Powertrain'] == 'Internal Combustion Engine (ICE)', 'WLTP Metric Combined (Weighted)'] = 0"
   ]
  },
  {
   "cell_type": "code",
   "execution_count": 52,
   "id": "31baa65c",
   "metadata": {},
   "outputs": [],
   "source": [
    "WLTP_metric_cols = ['WLTP Metric Low', 'WLTP Metric Medium', 'WLTP Metric High', 'WLTP Metric Extra High']\n",
    "\n",
    "for each in WLTP_metric_cols:\n",
    "    mainData = mainData[mainData[each].notna()]"
   ]
  },
  {
   "cell_type": "code",
   "execution_count": 53,
   "id": "18e782ec",
   "metadata": {},
   "outputs": [],
   "source": [
    "mainData = mainData[mainData['WLTP Metric Combined (Weighted)'].notna()]"
   ]
  },
  {
   "cell_type": "code",
   "execution_count": 54,
   "id": "9dffde45",
   "metadata": {},
   "outputs": [],
   "source": [
    "mainData = mainData[mainData['WLTP CO2'].notna()]"
   ]
  },
  {
   "cell_type": "code",
   "execution_count": 55,
   "id": "a4fd6233",
   "metadata": {
    "scrolled": true
   },
   "outputs": [
    {
     "data": {
      "text/plain": [
       "Transmission                          0\n",
       "Engine Capacity                       0\n",
       "Fuel Type                             0\n",
       "Powertrain                            0\n",
       "Engine Power (PS)                     0\n",
       "Euro Standard                         0\n",
       "Diesel VED Supplement                 0\n",
       "Electric energy consumption Km/kWh    0\n",
       "WLTP Metric Low                       0\n",
       "WLTP Metric Medium                    0\n",
       "WLTP Metric High                      0\n",
       "WLTP Metric Extra High                0\n",
       "WLTP Metric Combined                  0\n",
       "WLTP Metric Combined (Weighted)       0\n",
       "WLTP CO2                              0\n",
       "Year                                  0\n",
       "dtype: int64"
      ]
     },
     "execution_count": 55,
     "metadata": {},
     "output_type": "execute_result"
    }
   ],
   "source": [
    "mainData.isna().sum()"
   ]
  },
  {
   "cell_type": "code",
   "execution_count": 56,
   "id": "760721bb",
   "metadata": {},
   "outputs": [],
   "source": [
    "# change year to actual format\n",
    "\n",
    "mainData['Year'] = pd.to_datetime(mainData['Year'], format='%Y').dt.year"
   ]
  },
  {
   "cell_type": "code",
   "execution_count": 57,
   "id": "6e5b75da",
   "metadata": {},
   "outputs": [],
   "source": [
    "mainData = mainData.reset_index(drop = True)"
   ]
  },
  {
   "cell_type": "code",
   "execution_count": 58,
   "id": "b1b62e26",
   "metadata": {
    "scrolled": false
   },
   "outputs": [
    {
     "data": {
      "text/html": [
       "<div>\n",
       "<style scoped>\n",
       "    .dataframe tbody tr th:only-of-type {\n",
       "        vertical-align: middle;\n",
       "    }\n",
       "\n",
       "    .dataframe tbody tr th {\n",
       "        vertical-align: top;\n",
       "    }\n",
       "\n",
       "    .dataframe thead th {\n",
       "        text-align: right;\n",
       "    }\n",
       "</style>\n",
       "<table border=\"1\" class=\"dataframe\">\n",
       "  <thead>\n",
       "    <tr style=\"text-align: right;\">\n",
       "      <th></th>\n",
       "      <th>Transmission</th>\n",
       "      <th>Engine Capacity</th>\n",
       "      <th>Fuel Type</th>\n",
       "      <th>Powertrain</th>\n",
       "      <th>Engine Power (PS)</th>\n",
       "      <th>Euro Standard</th>\n",
       "      <th>Diesel VED Supplement</th>\n",
       "      <th>Electric energy consumption Km/kWh</th>\n",
       "      <th>WLTP Metric Low</th>\n",
       "      <th>WLTP Metric Medium</th>\n",
       "      <th>WLTP Metric High</th>\n",
       "      <th>WLTP Metric Extra High</th>\n",
       "      <th>WLTP Metric Combined</th>\n",
       "      <th>WLTP Metric Combined (Weighted)</th>\n",
       "      <th>WLTP CO2</th>\n",
       "      <th>Year</th>\n",
       "    </tr>\n",
       "  </thead>\n",
       "  <tbody>\n",
       "    <tr>\n",
       "      <th>0</th>\n",
       "      <td>M5</td>\n",
       "      <td>1368.0</td>\n",
       "      <td>Petrol</td>\n",
       "      <td>Internal Combustion Engine (ICE)</td>\n",
       "      <td>145.0</td>\n",
       "      <td>Euro 6d</td>\n",
       "      <td>False</td>\n",
       "      <td>0.0</td>\n",
       "      <td>9.5</td>\n",
       "      <td>6.1</td>\n",
       "      <td>5.8</td>\n",
       "      <td>7.0</td>\n",
       "      <td>6.8</td>\n",
       "      <td>0.0</td>\n",
       "      <td>153.0</td>\n",
       "      <td>2021</td>\n",
       "    </tr>\n",
       "    <tr>\n",
       "      <th>1</th>\n",
       "      <td>M5</td>\n",
       "      <td>1368.0</td>\n",
       "      <td>Petrol</td>\n",
       "      <td>Internal Combustion Engine (ICE)</td>\n",
       "      <td>165.0</td>\n",
       "      <td>Euro 6d-TEMP</td>\n",
       "      <td>False</td>\n",
       "      <td>0.0</td>\n",
       "      <td>10.6</td>\n",
       "      <td>7.1</td>\n",
       "      <td>6.6</td>\n",
       "      <td>8.0</td>\n",
       "      <td>7.7</td>\n",
       "      <td>0.0</td>\n",
       "      <td>171.0</td>\n",
       "      <td>2020</td>\n",
       "    </tr>\n",
       "    <tr>\n",
       "      <th>2</th>\n",
       "      <td>M5</td>\n",
       "      <td>1368.0</td>\n",
       "      <td>Petrol</td>\n",
       "      <td>Internal Combustion Engine (ICE)</td>\n",
       "      <td>165.0</td>\n",
       "      <td>Euro 6d-TEMP</td>\n",
       "      <td>False</td>\n",
       "      <td>0.0</td>\n",
       "      <td>9.6</td>\n",
       "      <td>6.7</td>\n",
       "      <td>6.3</td>\n",
       "      <td>7.7</td>\n",
       "      <td>7.3</td>\n",
       "      <td>0.0</td>\n",
       "      <td>165.0</td>\n",
       "      <td>2020</td>\n",
       "    </tr>\n",
       "    <tr>\n",
       "      <th>3</th>\n",
       "      <td>M5</td>\n",
       "      <td>1368.0</td>\n",
       "      <td>Petrol</td>\n",
       "      <td>Internal Combustion Engine (ICE)</td>\n",
       "      <td>180.0</td>\n",
       "      <td>Euro 6d-TEMP</td>\n",
       "      <td>False</td>\n",
       "      <td>0.0</td>\n",
       "      <td>10.8</td>\n",
       "      <td>7.1</td>\n",
       "      <td>6.4</td>\n",
       "      <td>8.1</td>\n",
       "      <td>7.7</td>\n",
       "      <td>0.0</td>\n",
       "      <td>171.0</td>\n",
       "      <td>2020</td>\n",
       "    </tr>\n",
       "    <tr>\n",
       "      <th>4</th>\n",
       "      <td>M5</td>\n",
       "      <td>1368.0</td>\n",
       "      <td>Petrol</td>\n",
       "      <td>Internal Combustion Engine (ICE)</td>\n",
       "      <td>180.0</td>\n",
       "      <td>Euro 6d-TEMP</td>\n",
       "      <td>False</td>\n",
       "      <td>0.0</td>\n",
       "      <td>10.8</td>\n",
       "      <td>7.1</td>\n",
       "      <td>6.4</td>\n",
       "      <td>8.1</td>\n",
       "      <td>7.7</td>\n",
       "      <td>0.0</td>\n",
       "      <td>171.0</td>\n",
       "      <td>2020</td>\n",
       "    </tr>\n",
       "  </tbody>\n",
       "</table>\n",
       "</div>"
      ],
      "text/plain": [
       "  Transmission  Engine Capacity Fuel Type                        Powertrain  \\\n",
       "0           M5           1368.0    Petrol  Internal Combustion Engine (ICE)   \n",
       "1           M5           1368.0    Petrol  Internal Combustion Engine (ICE)   \n",
       "2           M5           1368.0    Petrol  Internal Combustion Engine (ICE)   \n",
       "3           M5           1368.0    Petrol  Internal Combustion Engine (ICE)   \n",
       "4           M5           1368.0    Petrol  Internal Combustion Engine (ICE)   \n",
       "\n",
       "   Engine Power (PS) Euro Standard Diesel VED Supplement  \\\n",
       "0              145.0       Euro 6d                 False   \n",
       "1              165.0  Euro 6d-TEMP                 False   \n",
       "2              165.0  Euro 6d-TEMP                 False   \n",
       "3              180.0  Euro 6d-TEMP                 False   \n",
       "4              180.0  Euro 6d-TEMP                 False   \n",
       "\n",
       "   Electric energy consumption Km/kWh  WLTP Metric Low  WLTP Metric Medium  \\\n",
       "0                                 0.0              9.5                 6.1   \n",
       "1                                 0.0             10.6                 7.1   \n",
       "2                                 0.0              9.6                 6.7   \n",
       "3                                 0.0             10.8                 7.1   \n",
       "4                                 0.0             10.8                 7.1   \n",
       "\n",
       "   WLTP Metric High  WLTP Metric Extra High  WLTP Metric Combined  \\\n",
       "0               5.8                     7.0                   6.8   \n",
       "1               6.6                     8.0                   7.7   \n",
       "2               6.3                     7.7                   7.3   \n",
       "3               6.4                     8.1                   7.7   \n",
       "4               6.4                     8.1                   7.7   \n",
       "\n",
       "   WLTP Metric Combined (Weighted)  WLTP CO2  Year  \n",
       "0                              0.0     153.0  2021  \n",
       "1                              0.0     171.0  2020  \n",
       "2                              0.0     165.0  2020  \n",
       "3                              0.0     171.0  2020  \n",
       "4                              0.0     171.0  2020  "
      ]
     },
     "execution_count": 58,
     "metadata": {},
     "output_type": "execute_result"
    }
   ],
   "source": [
    "mainData.head()"
   ]
  },
  {
   "cell_type": "markdown",
   "id": "eaa5de15",
   "metadata": {},
   "source": [
    "#### Taking Unique Values of Categorical variables"
   ]
  },
  {
   "cell_type": "code",
   "execution_count": 59,
   "id": "58182589",
   "metadata": {},
   "outputs": [
    {
     "data": {
      "text/plain": [
       "array(['M5', 'SAT5', 'SA5', 'M6', 'A8', 'A6', 'SA6', 'A7', 'M7', 'A9-AWD',\n",
       "       '8AT', 'A9', 'DCT6', 'SAT6', 'CVT', 'SA7', 'SA8', 'A5', 'DCT7',\n",
       "       'A1', '10 Speed Automatic', 'A8-AWD', '7DCT', 'A6-AWD', 'M6-AWD',\n",
       "       'MPS6', 'MPS6-AWD', '8-speed', '6MT', '5MT', 'DCT8', '6AT', 'MT5',\n",
       "       'AMT5', '4AT', 'MT6', '6-speed auto DCT', 'A4', 'AT6', 'AT1',\n",
       "       'E-CVT', 'A10', 'Auto', '7SP. SSG', 'AT', '8A AWD', 'Manual',\n",
       "       'Automatic', '8A-AWD', '7A-FWD'], dtype=object)"
      ]
     },
     "execution_count": 59,
     "metadata": {},
     "output_type": "execute_result"
    }
   ],
   "source": [
    "mainData['Transmission'].unique()"
   ]
  },
  {
   "cell_type": "code",
   "execution_count": 60,
   "id": "d2fb1858",
   "metadata": {},
   "outputs": [
    {
     "data": {
      "text/plain": [
       "array(['Petrol', 'Diesel', 'Electricity / Petrol', 'Petrol / LPG',\n",
       "       'Petrol Electric', 'Diesel Electric', 'Electricity',\n",
       "       'Electricity / Diesel'], dtype=object)"
      ]
     },
     "execution_count": 60,
     "metadata": {},
     "output_type": "execute_result"
    }
   ],
   "source": [
    "mainData['Fuel Type'].unique()"
   ]
  },
  {
   "cell_type": "code",
   "execution_count": 61,
   "id": "07df0a33",
   "metadata": {},
   "outputs": [
    {
     "data": {
      "text/plain": [
       "array(['Internal Combustion Engine (ICE)',\n",
       "       'Plug-in Hybrid Electric Vehicle (PHEV)',\n",
       "       'Hybrid Electric Vehicle (HEV)',\n",
       "       'Mild Hybrid Electric Vehicle (MHEV)',\n",
       "       'Battery Electric Vehicle (BEV) / Pure Electric Vehicle / Electric Vehicle (EV)'],\n",
       "      dtype=object)"
      ]
     },
     "execution_count": 61,
     "metadata": {},
     "output_type": "execute_result"
    }
   ],
   "source": [
    "mainData['Powertrain'].unique()"
   ]
  },
  {
   "cell_type": "code",
   "execution_count": 62,
   "id": "538090c2",
   "metadata": {},
   "outputs": [
    {
     "data": {
      "text/plain": [
       "array(['Euro 6d', 'Euro 6d-TEMP', 'Euro 6c',\n",
       "       'Euro 6-WLTP (for BEVs only)'], dtype=object)"
      ]
     },
     "execution_count": 62,
     "metadata": {},
     "output_type": "execute_result"
    }
   ],
   "source": [
    "mainData['Euro Standard'].unique()"
   ]
  },
  {
   "cell_type": "code",
   "execution_count": 63,
   "id": "532454dd",
   "metadata": {},
   "outputs": [
    {
     "data": {
      "text/plain": [
       "array([False, True], dtype=object)"
      ]
     },
     "execution_count": 63,
     "metadata": {},
     "output_type": "execute_result"
    }
   ],
   "source": [
    "mainData['Diesel VED Supplement'].unique()"
   ]
  },
  {
   "cell_type": "code",
   "execution_count": 64,
   "id": "1020bbbd",
   "metadata": {},
   "outputs": [
    {
     "data": {
      "image/png": "[encoded data removed]",
      "text/plain": [
       "<Figure size 640x480 with 1 Axes>"
      ]
     },
     "metadata": {},
     "output_type": "display_data"
    }
   ],
   "source": [
    "\n",
    "\n",
    "num_cols = ['Engine Capacity', 'Engine Power (PS)', 'Electric energy consumption Km/kWh',\n",
    "                           'WLTP Metric Low', 'WLTP Metric Medium', 'WLTP Metric High', 'WLTP Metric Extra High',\n",
    "                          'WLTP Metric Combined', 'WLTP Metric Combined (Weighted)', 'WLTP CO2']\n",
    "\n",
    "plt.boxplot(mainData[num_cols])\n",
    "plt.show()"
   ]
  },
  {
   "cell_type": "code",
   "execution_count": 65,
   "id": "d471e4d6",
   "metadata": {},
   "outputs": [],
   "source": [
    "mainData = mainData[mainData['WLTP CO2'] != 2019]"
   ]
  },
  {
   "cell_type": "code",
   "execution_count": 66,
   "id": "3ea9d1a3",
   "metadata": {},
   "outputs": [
    {
     "data": {
      "image/png": "[encoded data removed]",
      "text/plain": [
       "<Figure size 640x480 with 1 Axes>"
      ]
     },
     "metadata": {},
     "output_type": "display_data"
    }
   ],
   "source": [
    "plt.boxplot(mainData[num_cols])\n",
    "plt.show()"
   ]
  },
  {
   "cell_type": "markdown",
   "id": "a4168649",
   "metadata": {},
   "source": [
    "#### Check the Variance of numerical variables"
   ]
  },
  {
   "cell_type": "code",
   "execution_count": 67,
   "id": "284721ba",
   "metadata": {
    "scrolled": false
   },
   "outputs": [
    {
     "data": {
      "text/plain": [
       "Engine Capacity                       695711.176588\n",
       "Engine Power (PS)                      11753.458178\n",
       "Diesel VED Supplement                      0.178813\n",
       "Electric energy consumption Km/kWh         0.832623\n",
       "WLTP Metric Low                           19.961424\n",
       "WLTP Metric Medium                         6.696604\n",
       "WLTP Metric High                           3.242815\n",
       "WLTP Metric Extra High                     3.690507\n",
       "WLTP Metric Combined                       4.565066\n",
       "WLTP Metric Combined (Weighted)            0.167175\n",
       "WLTP CO2                                2481.617555\n",
       "Year                                       0.583713\n",
       "dtype: float64"
      ]
     },
     "execution_count": 67,
     "metadata": {},
     "output_type": "execute_result"
    }
   ],
   "source": [
    "mainData.var()"
   ]
  },
  {
   "cell_type": "markdown",
   "id": "37be88be",
   "metadata": {},
   "source": [
    "### Creating Dummy Variables"
   ]
  },
  {
   "cell_type": "code",
   "execution_count": 68,
   "id": "dcd0704a",
   "metadata": {},
   "outputs": [],
   "source": [
    "mainData_dummies = pd.get_dummies(mainData, columns=['Engine Capacity','Transmission', 'Fuel Type', 'Powertrain', 'Euro Standard',\n",
    "       'Diesel VED Supplement', 'Year'], drop_first= True)"
   ]
  },
  {
   "cell_type": "code",
   "execution_count": 69,
   "id": "acd69707",
   "metadata": {},
   "outputs": [],
   "source": [
    "# X_test_dummies = pd.get_dummies(X_test_new, columns = ['Transmission', 'Fuel Type', 'Powertrain', 'Euro Standard',\n",
    "#       'Diesel VED Supplement', 'Year'], drop_first = True)"
   ]
  },
  {
   "cell_type": "code",
   "execution_count": 70,
   "id": "d7f8d103",
   "metadata": {
    "scrolled": false
   },
   "outputs": [
    {
     "data": {
      "text/html": [
       "<div>\n",
       "<style scoped>\n",
       "    .dataframe tbody tr th:only-of-type {\n",
       "        vertical-align: middle;\n",
       "    }\n",
       "\n",
       "    .dataframe tbody tr th {\n",
       "        vertical-align: top;\n",
       "    }\n",
       "\n",
       "    .dataframe thead th {\n",
       "        text-align: right;\n",
       "    }\n",
       "</style>\n",
       "<table border=\"1\" class=\"dataframe\">\n",
       "  <thead>\n",
       "    <tr style=\"text-align: right;\">\n",
       "      <th></th>\n",
       "      <th>Engine Power (PS)</th>\n",
       "      <th>Electric energy consumption Km/kWh</th>\n",
       "      <th>WLTP Metric Low</th>\n",
       "      <th>WLTP Metric Medium</th>\n",
       "      <th>WLTP Metric High</th>\n",
       "      <th>WLTP Metric Extra High</th>\n",
       "      <th>WLTP Metric Combined</th>\n",
       "      <th>WLTP Metric Combined (Weighted)</th>\n",
       "      <th>WLTP CO2</th>\n",
       "      <th>Engine Capacity_875.0</th>\n",
       "      <th>...</th>\n",
       "      <th>Powertrain_Hybrid Electric Vehicle (HEV)</th>\n",
       "      <th>Powertrain_Internal Combustion Engine (ICE)</th>\n",
       "      <th>Powertrain_Mild Hybrid Electric Vehicle (MHEV)</th>\n",
       "      <th>Powertrain_Plug-in Hybrid Electric Vehicle (PHEV)</th>\n",
       "      <th>Euro Standard_Euro 6c</th>\n",
       "      <th>Euro Standard_Euro 6d</th>\n",
       "      <th>Euro Standard_Euro 6d-TEMP</th>\n",
       "      <th>Diesel VED Supplement_True</th>\n",
       "      <th>Year_2021</th>\n",
       "      <th>Year_2022</th>\n",
       "    </tr>\n",
       "  </thead>\n",
       "  <tbody>\n",
       "    <tr>\n",
       "      <th>0</th>\n",
       "      <td>145.0</td>\n",
       "      <td>0.0</td>\n",
       "      <td>9.5</td>\n",
       "      <td>6.1</td>\n",
       "      <td>5.8</td>\n",
       "      <td>7.0</td>\n",
       "      <td>6.8</td>\n",
       "      <td>0.0</td>\n",
       "      <td>153.0</td>\n",
       "      <td>0</td>\n",
       "      <td>...</td>\n",
       "      <td>0</td>\n",
       "      <td>1</td>\n",
       "      <td>0</td>\n",
       "      <td>0</td>\n",
       "      <td>0</td>\n",
       "      <td>1</td>\n",
       "      <td>0</td>\n",
       "      <td>0</td>\n",
       "      <td>1</td>\n",
       "      <td>0</td>\n",
       "    </tr>\n",
       "    <tr>\n",
       "      <th>1</th>\n",
       "      <td>165.0</td>\n",
       "      <td>0.0</td>\n",
       "      <td>10.6</td>\n",
       "      <td>7.1</td>\n",
       "      <td>6.6</td>\n",
       "      <td>8.0</td>\n",
       "      <td>7.7</td>\n",
       "      <td>0.0</td>\n",
       "      <td>171.0</td>\n",
       "      <td>0</td>\n",
       "      <td>...</td>\n",
       "      <td>0</td>\n",
       "      <td>1</td>\n",
       "      <td>0</td>\n",
       "      <td>0</td>\n",
       "      <td>0</td>\n",
       "      <td>0</td>\n",
       "      <td>1</td>\n",
       "      <td>0</td>\n",
       "      <td>0</td>\n",
       "      <td>0</td>\n",
       "    </tr>\n",
       "    <tr>\n",
       "      <th>2</th>\n",
       "      <td>165.0</td>\n",
       "      <td>0.0</td>\n",
       "      <td>9.6</td>\n",
       "      <td>6.7</td>\n",
       "      <td>6.3</td>\n",
       "      <td>7.7</td>\n",
       "      <td>7.3</td>\n",
       "      <td>0.0</td>\n",
       "      <td>165.0</td>\n",
       "      <td>0</td>\n",
       "      <td>...</td>\n",
       "      <td>0</td>\n",
       "      <td>1</td>\n",
       "      <td>0</td>\n",
       "      <td>0</td>\n",
       "      <td>0</td>\n",
       "      <td>0</td>\n",
       "      <td>1</td>\n",
       "      <td>0</td>\n",
       "      <td>0</td>\n",
       "      <td>0</td>\n",
       "    </tr>\n",
       "    <tr>\n",
       "      <th>3</th>\n",
       "      <td>180.0</td>\n",
       "      <td>0.0</td>\n",
       "      <td>10.8</td>\n",
       "      <td>7.1</td>\n",
       "      <td>6.4</td>\n",
       "      <td>8.1</td>\n",
       "      <td>7.7</td>\n",
       "      <td>0.0</td>\n",
       "      <td>171.0</td>\n",
       "      <td>0</td>\n",
       "      <td>...</td>\n",
       "      <td>0</td>\n",
       "      <td>1</td>\n",
       "      <td>0</td>\n",
       "      <td>0</td>\n",
       "      <td>0</td>\n",
       "      <td>0</td>\n",
       "      <td>1</td>\n",
       "      <td>0</td>\n",
       "      <td>0</td>\n",
       "      <td>0</td>\n",
       "    </tr>\n",
       "    <tr>\n",
       "      <th>4</th>\n",
       "      <td>180.0</td>\n",
       "      <td>0.0</td>\n",
       "      <td>10.8</td>\n",
       "      <td>7.1</td>\n",
       "      <td>6.4</td>\n",
       "      <td>8.1</td>\n",
       "      <td>7.7</td>\n",
       "      <td>0.0</td>\n",
       "      <td>171.0</td>\n",
       "      <td>0</td>\n",
       "      <td>...</td>\n",
       "      <td>0</td>\n",
       "      <td>1</td>\n",
       "      <td>0</td>\n",
       "      <td>0</td>\n",
       "      <td>0</td>\n",
       "      <td>0</td>\n",
       "      <td>1</td>\n",
       "      <td>0</td>\n",
       "      <td>0</td>\n",
       "      <td>0</td>\n",
       "    </tr>\n",
       "  </tbody>\n",
       "</table>\n",
       "<p>5 rows × 193 columns</p>\n",
       "</div>"
      ],
      "text/plain": [
       "   Engine Power (PS)  Electric energy consumption Km/kWh  WLTP Metric Low  \\\n",
       "0              145.0                                 0.0              9.5   \n",
       "1              165.0                                 0.0             10.6   \n",
       "2              165.0                                 0.0              9.6   \n",
       "3              180.0                                 0.0             10.8   \n",
       "4              180.0                                 0.0             10.8   \n",
       "\n",
       "   WLTP Metric Medium  WLTP Metric High  WLTP Metric Extra High  \\\n",
       "0                 6.1               5.8                     7.0   \n",
       "1                 7.1               6.6                     8.0   \n",
       "2                 6.7               6.3                     7.7   \n",
       "3                 7.1               6.4                     8.1   \n",
       "4                 7.1               6.4                     8.1   \n",
       "\n",
       "   WLTP Metric Combined  WLTP Metric Combined (Weighted)  WLTP CO2  \\\n",
       "0                   6.8                              0.0     153.0   \n",
       "1                   7.7                              0.0     171.0   \n",
       "2                   7.3                              0.0     165.0   \n",
       "3                   7.7                              0.0     171.0   \n",
       "4                   7.7                              0.0     171.0   \n",
       "\n",
       "   Engine Capacity_875.0  ...  Powertrain_Hybrid Electric Vehicle (HEV)  \\\n",
       "0                      0  ...                                         0   \n",
       "1                      0  ...                                         0   \n",
       "2                      0  ...                                         0   \n",
       "3                      0  ...                                         0   \n",
       "4                      0  ...                                         0   \n",
       "\n",
       "   Powertrain_Internal Combustion Engine (ICE)  \\\n",
       "0                                            1   \n",
       "1                                            1   \n",
       "2                                            1   \n",
       "3                                            1   \n",
       "4                                            1   \n",
       "\n",
       "   Powertrain_Mild Hybrid Electric Vehicle (MHEV)  \\\n",
       "0                                               0   \n",
       "1                                               0   \n",
       "2                                               0   \n",
       "3                                               0   \n",
       "4                                               0   \n",
       "\n",
       "   Powertrain_Plug-in Hybrid Electric Vehicle (PHEV)  Euro Standard_Euro 6c  \\\n",
       "0                                                  0                      0   \n",
       "1                                                  0                      0   \n",
       "2                                                  0                      0   \n",
       "3                                                  0                      0   \n",
       "4                                                  0                      0   \n",
       "\n",
       "   Euro Standard_Euro 6d  Euro Standard_Euro 6d-TEMP  \\\n",
       "0                      1                           0   \n",
       "1                      0                           1   \n",
       "2                      0                           1   \n",
       "3                      0                           1   \n",
       "4                      0                           1   \n",
       "\n",
       "   Diesel VED Supplement_True  Year_2021  Year_2022  \n",
       "0                           0          1          0  \n",
       "1                           0          0          0  \n",
       "2                           0          0          0  \n",
       "3                           0          0          0  \n",
       "4                           0          0          0  \n",
       "\n",
       "[5 rows x 193 columns]"
      ]
     },
     "execution_count": 70,
     "metadata": {},
     "output_type": "execute_result"
    }
   ],
   "source": [
    "mainData_dummies.head()"
   ]
  },
  {
   "cell_type": "markdown",
   "id": "fb369d4d",
   "metadata": {},
   "source": [
    "### Train test split"
   ]
  },
  {
   "cell_type": "code",
   "execution_count": 71,
   "id": "7c89ce2f",
   "metadata": {},
   "outputs": [],
   "source": [
    "X = mainData_dummies.drop(columns = ['WLTP CO2'])\n",
    "y = mainData_dummies['WLTP CO2']"
   ]
  },
  {
   "cell_type": "code",
   "execution_count": 72,
   "id": "7be4df02",
   "metadata": {},
   "outputs": [],
   "source": [
    "X_train, X_test, y_train, y_test = train_test_split(X, y, test_size = 0.3, random_state = 42)"
   ]
  },
  {
   "cell_type": "raw",
   "id": "13ac07fc",
   "metadata": {},
   "source": [
    "Seperate dataset into numerical and categorical "
   ]
  },
  {
   "cell_type": "code",
   "execution_count": 73,
   "id": "3a804778",
   "metadata": {},
   "outputs": [],
   "source": [
    "train_numerical = X_train[['Engine Power (PS)', 'Electric energy consumption Km/kWh',\n",
    "                           'WLTP Metric Low', 'WLTP Metric Medium', 'WLTP Metric High', 'WLTP Metric Extra High',\n",
    "                          'WLTP Metric Combined', 'WLTP Metric Combined (Weighted)']]\n",
    "\n",
    "test_numerical = X_test[['Engine Power (PS)', 'Electric energy consumption Km/kWh',\n",
    "                           'WLTP Metric Low', 'WLTP Metric Medium', 'WLTP Metric High', 'WLTP Metric Extra High',\n",
    "                          'WLTP Metric Combined', 'WLTP Metric Combined (Weighted)']]"
   ]
  },
  {
   "cell_type": "code",
   "execution_count": 74,
   "id": "34841726",
   "metadata": {},
   "outputs": [],
   "source": [
    "train_categorical = X_train.drop(columns = ['Engine Power (PS)', 'Electric energy consumption Km/kWh',\n",
    "                           'WLTP Metric Low', 'WLTP Metric Medium', 'WLTP Metric High', 'WLTP Metric Extra High',\n",
    "                          'WLTP Metric Combined', 'WLTP Metric Combined (Weighted)'])\n",
    "test_categorical = X_test.drop(columns = ['Engine Power (PS)', 'Electric energy consumption Km/kWh',\n",
    "                           'WLTP Metric Low', 'WLTP Metric Medium', 'WLTP Metric High', 'WLTP Metric Extra High',\n",
    "                          'WLTP Metric Combined', 'WLTP Metric Combined (Weighted)'])"
   ]
  },
  {
   "cell_type": "markdown",
   "id": "2378f9da",
   "metadata": {},
   "source": [
    "### Standardise dataset"
   ]
  },
  {
   "cell_type": "code",
   "execution_count": 75,
   "id": "2ae9c964",
   "metadata": {},
   "outputs": [],
   "source": [
    "train_numerical = train_numerical.reset_index(drop = True)\n",
    "train_categorical = train_categorical.reset_index(drop = True)\n",
    "test_numerical = test_numerical.reset_index(drop = True)\n",
    "test_categorical = test_categorical.reset_index(drop = True)"
   ]
  },
  {
   "cell_type": "code",
   "execution_count": 76,
   "id": "0672bfa4",
   "metadata": {},
   "outputs": [],
   "source": [
    "scaler = StandardScaler()\n",
    "\n",
    "# fit transform\n",
    "train_scaled = scaler.fit_transform(train_numerical)\n",
    "test_scaled = scaler.transform(test_numerical)"
   ]
  },
  {
   "cell_type": "code",
   "execution_count": 77,
   "id": "f644c5ea",
   "metadata": {},
   "outputs": [],
   "source": [
    "train_labelled = pd.DataFrame(train_scaled, columns = ['Engine Power (PS)','Electric energy consumption Km/kWh',\n",
    "                           'WLTP Metric Low', 'WLTP Metric Medium', 'WLTP Metric High', 'WLTP Metric Extra High',\n",
    "                          'WLTP Metric Combined', 'WLTP Metric Combined (Weighted)'])\n",
    "test_labelled = pd.DataFrame(test_scaled, columns = ['Engine Power (PS)', 'Electric energy consumption Km/kWh',\n",
    "                           'WLTP Metric Low', 'WLTP Metric Medium', 'WLTP Metric High', 'WLTP Metric Extra High',\n",
    "                          'WLTP Metric Combined', 'WLTP Metric Combined (Weighted)'])"
   ]
  },
  {
   "cell_type": "code",
   "execution_count": 78,
   "id": "89fbc7fa",
   "metadata": {},
   "outputs": [],
   "source": [
    "X_train_new = pd.concat([train_labelled, train_categorical], axis = 1)"
   ]
  },
  {
   "cell_type": "code",
   "execution_count": 79,
   "id": "9523edfc",
   "metadata": {},
   "outputs": [],
   "source": [
    "X_test_new = pd.concat([test_labelled, test_categorical], axis = 1)"
   ]
  },
  {
   "cell_type": "markdown",
   "id": "08d872c3",
   "metadata": {},
   "source": [
    "## SVM"
   ]
  },
  {
   "cell_type": "code",
   "execution_count": 439,
   "id": "63ac5d6f",
   "metadata": {},
   "outputs": [],
   "source": [
    "svc_threshold = np.median(mainData['WLTP CO2'])"
   ]
  },
  {
   "cell_type": "code",
   "execution_count": 440,
   "id": "64c910a6",
   "metadata": {},
   "outputs": [],
   "source": [
    "y_train_class = []\n",
    "y_test_class = []\n",
    "\n",
    "for each in y_train:\n",
    "    if each > svc_threshold:\n",
    "        y_train_class.append(\"High\")\n",
    "    else:\n",
    "        y_train_class.append(\"Low\")\n",
    "\n",
    "for each in y_test:\n",
    "    if each > svc_threshold:\n",
    "        y_test_class.append(\"High\")\n",
    "    else:\n",
    "        y_test_class.append(\"Low\")"
   ]
  },
  {
   "cell_type": "code",
   "execution_count": 286,
   "id": "2edc28b2",
   "metadata": {},
   "outputs": [],
   "source": [
    "SVC_model_tuning = SVC()"
   ]
  },
  {
   "cell_type": "code",
   "execution_count": 292,
   "id": "cb8318ef",
   "metadata": {},
   "outputs": [],
   "source": [
    "param_grid_SVC = {\n",
    "    'C': [0.1, 1, 10, 100],  # Regularization parameter\n",
    "    'kernel': ['linear', 'rbf', 'poly'],  # Kernel types\n",
    "    'gamma': [0.001, 0.01, 0.1, 1]  # Kernel coefficient (for 'rbf' and 'poly' kernels)\n",
    "}"
   ]
  },
  {
   "cell_type": "code",
   "execution_count": 293,
   "id": "9ca193b1",
   "metadata": {},
   "outputs": [],
   "source": [
    "grid_search_SVC = GridSearchCV(SVC_model_tuning, param_grid = param_grid_SVC, cv = 5)"
   ]
  },
  {
   "cell_type": "code",
   "execution_count": 297,
   "id": "0645eb4d",
   "metadata": {},
   "outputs": [
    {
     "data": {
      "text/html": [
       "<style>#sk-container-id-20 {color: black;background-color: white;}#sk-container-id-20 pre{padding: 0;}#sk-container-id-20 div.sk-toggleable {background-color: white;}#sk-container-id-20 label.sk-toggleable__label {cursor: pointer;display: block;width: 100%;margin-bottom: 0;padding: 0.3em;box-sizing: border-box;text-align: center;}#sk-container-id-20 label.sk-toggleable__label-arrow:before {content: \"▸\";float: left;margin-right: 0.25em;color: #696969;}#sk-container-id-20 label.sk-toggleable__label-arrow:hover:before {color: black;}#sk-container-id-20 div.sk-estimator:hover label.sk-toggleable__label-arrow:before {color: black;}#sk-container-id-20 div.sk-toggleable__content {max-height: 0;max-width: 0;overflow: hidden;text-align: left;background-color: #f0f8ff;}#sk-container-id-20 div.sk-toggleable__content pre {margin: 0.2em;color: black;border-radius: 0.25em;background-color: #f0f8ff;}#sk-container-id-20 input.sk-toggleable__control:checked~div.sk-toggleable__content {max-height: 200px;max-width: 100%;overflow: auto;}#sk-container-id-20 input.sk-toggleable__control:checked~label.sk-toggleable__label-arrow:before {content: \"▾\";}#sk-container-id-20 div.sk-estimator input.sk-toggleable__control:checked~label.sk-toggleable__label {background-color: #d4ebff;}#sk-container-id-20 div.sk-label input.sk-toggleable__control:checked~label.sk-toggleable__label {background-color: #d4ebff;}#sk-container-id-20 input.sk-hidden--visually {border: 0;clip: rect(1px 1px 1px 1px);clip: rect(1px, 1px, 1px, 1px);height: 1px;margin: -1px;overflow: hidden;padding: 0;position: absolute;width: 1px;}#sk-container-id-20 div.sk-estimator {font-family: monospace;background-color: #f0f8ff;border: 1px dotted black;border-radius: 0.25em;box-sizing: border-box;margin-bottom: 0.5em;}#sk-container-id-20 div.sk-estimator:hover {background-color: #d4ebff;}#sk-container-id-20 div.sk-parallel-item::after {content: \"\";width: 100%;border-bottom: 1px solid gray;flex-grow: 1;}#sk-container-id-20 div.sk-label:hover label.sk-toggleable__label {background-color: #d4ebff;}#sk-container-id-20 div.sk-serial::before {content: \"\";position: absolute;border-left: 1px solid gray;box-sizing: border-box;top: 0;bottom: 0;left: 50%;z-index: 0;}#sk-container-id-20 div.sk-serial {display: flex;flex-direction: column;align-items: center;background-color: white;padding-right: 0.2em;padding-left: 0.2em;position: relative;}#sk-container-id-20 div.sk-item {position: relative;z-index: 1;}#sk-container-id-20 div.sk-parallel {display: flex;align-items: stretch;justify-content: center;background-color: white;position: relative;}#sk-container-id-20 div.sk-item::before, #sk-container-id-20 div.sk-parallel-item::before {content: \"\";position: absolute;border-left: 1px solid gray;box-sizing: border-box;top: 0;bottom: 0;left: 50%;z-index: -1;}#sk-container-id-20 div.sk-parallel-item {display: flex;flex-direction: column;z-index: 1;position: relative;background-color: white;}#sk-container-id-20 div.sk-parallel-item:first-child::after {align-self: flex-end;width: 50%;}#sk-container-id-20 div.sk-parallel-item:last-child::after {align-self: flex-start;width: 50%;}#sk-container-id-20 div.sk-parallel-item:only-child::after {width: 0;}#sk-container-id-20 div.sk-dashed-wrapped {border: 1px dashed gray;margin: 0 0.4em 0.5em 0.4em;box-sizing: border-box;padding-bottom: 0.4em;background-color: white;}#sk-container-id-20 div.sk-label label {font-family: monospace;font-weight: bold;display: inline-block;line-height: 1.2em;}#sk-container-id-20 div.sk-label-container {text-align: center;}#sk-container-id-20 div.sk-container {/* jupyter's `normalize.less` sets `[hidden] { display: none; }` but bootstrap.min.css set `[hidden] { display: none !important; }` so we also need the `!important` here to be able to override the default hidden behavior on the sphinx rendered scikit-learn.org. See: https://github.com/scikit-learn/scikit-learn/issues/21755 */display: inline-block !important;position: relative;}#sk-container-id-20 div.sk-text-repr-fallback {display: none;}</style><div id=\"sk-container-id-20\" class=\"sk-top-container\"><div class=\"sk-text-repr-fallback\"><pre>GridSearchCV(cv=5, estimator=SVC(),\n",
       "             param_grid={&#x27;C&#x27;: [0.1, 1, 10, 100], &#x27;gamma&#x27;: [0.001, 0.01, 0.1, 1],\n",
       "                         &#x27;kernel&#x27;: [&#x27;linear&#x27;, &#x27;rbf&#x27;, &#x27;poly&#x27;]})</pre><b>In a Jupyter environment, please rerun this cell to show the HTML representation or trust the notebook. <br />On GitHub, the HTML representation is unable to render, please try loading this page with nbviewer.org.</b></div><div class=\"sk-container\" hidden><div class=\"sk-item sk-dashed-wrapped\"><div class=\"sk-label-container\"><div class=\"sk-label sk-toggleable\"><input class=\"sk-toggleable__control sk-hidden--visually\" id=\"sk-estimator-id-24\" type=\"checkbox\" ><label for=\"sk-estimator-id-24\" class=\"sk-toggleable__label sk-toggleable__label-arrow\">GridSearchCV</label><div class=\"sk-toggleable__content\"><pre>GridSearchCV(cv=5, estimator=SVC(),\n",
       "             param_grid={&#x27;C&#x27;: [0.1, 1, 10, 100], &#x27;gamma&#x27;: [0.001, 0.01, 0.1, 1],\n",
       "                         &#x27;kernel&#x27;: [&#x27;linear&#x27;, &#x27;rbf&#x27;, &#x27;poly&#x27;]})</pre></div></div></div><div class=\"sk-parallel\"><div class=\"sk-parallel-item\"><div class=\"sk-item\"><div class=\"sk-label-container\"><div class=\"sk-label sk-toggleable\"><input class=\"sk-toggleable__control sk-hidden--visually\" id=\"sk-estimator-id-25\" type=\"checkbox\" ><label for=\"sk-estimator-id-25\" class=\"sk-toggleable__label sk-toggleable__label-arrow\">estimator: SVC</label><div class=\"sk-toggleable__content\"><pre>SVC()</pre></div></div></div><div class=\"sk-serial\"><div class=\"sk-item\"><div class=\"sk-estimator sk-toggleable\"><input class=\"sk-toggleable__control sk-hidden--visually\" id=\"sk-estimator-id-26\" type=\"checkbox\" ><label for=\"sk-estimator-id-26\" class=\"sk-toggleable__label sk-toggleable__label-arrow\">SVC</label><div class=\"sk-toggleable__content\"><pre>SVC()</pre></div></div></div></div></div></div></div></div></div></div>"
      ],
      "text/plain": [
       "GridSearchCV(cv=5, estimator=SVC(),\n",
       "             param_grid={'C': [0.1, 1, 10, 100], 'gamma': [0.001, 0.01, 0.1, 1],\n",
       "                         'kernel': ['linear', 'rbf', 'poly']})"
      ]
     },
     "execution_count": 297,
     "metadata": {},
     "output_type": "execute_result"
    }
   ],
   "source": [
    "grid_search_SVC.fit(X_train_new, y_train_class)"
   ]
  },
  {
   "cell_type": "code",
   "execution_count": 299,
   "id": "3b9487e6",
   "metadata": {},
   "outputs": [
    {
     "data": {
      "text/plain": [
       "{'C': 1, 'gamma': 1, 'kernel': 'poly'}"
      ]
     },
     "execution_count": 299,
     "metadata": {},
     "output_type": "execute_result"
    }
   ],
   "source": [
    "best_params_SVC = grid_search_SVC.best_params_\n",
    "best_params_SVC"
   ]
  },
  {
   "cell_type": "code",
   "execution_count": 300,
   "id": "5524587c",
   "metadata": {},
   "outputs": [],
   "source": [
    "poly_SVC_model = SVC(C = 1, gamma = 1, kernel = 'poly')"
   ]
  },
  {
   "cell_type": "code",
   "execution_count": 301,
   "id": "2fe9aa42",
   "metadata": {},
   "outputs": [
    {
     "data": {
      "text/html": [
       "<style>#sk-container-id-21 {color: black;background-color: white;}#sk-container-id-21 pre{padding: 0;}#sk-container-id-21 div.sk-toggleable {background-color: white;}#sk-container-id-21 label.sk-toggleable__label {cursor: pointer;display: block;width: 100%;margin-bottom: 0;padding: 0.3em;box-sizing: border-box;text-align: center;}#sk-container-id-21 label.sk-toggleable__label-arrow:before {content: \"▸\";float: left;margin-right: 0.25em;color: #696969;}#sk-container-id-21 label.sk-toggleable__label-arrow:hover:before {color: black;}#sk-container-id-21 div.sk-estimator:hover label.sk-toggleable__label-arrow:before {color: black;}#sk-container-id-21 div.sk-toggleable__content {max-height: 0;max-width: 0;overflow: hidden;text-align: left;background-color: #f0f8ff;}#sk-container-id-21 div.sk-toggleable__content pre {margin: 0.2em;color: black;border-radius: 0.25em;background-color: #f0f8ff;}#sk-container-id-21 input.sk-toggleable__control:checked~div.sk-toggleable__content {max-height: 200px;max-width: 100%;overflow: auto;}#sk-container-id-21 input.sk-toggleable__control:checked~label.sk-toggleable__label-arrow:before {content: \"▾\";}#sk-container-id-21 div.sk-estimator input.sk-toggleable__control:checked~label.sk-toggleable__label {background-color: #d4ebff;}#sk-container-id-21 div.sk-label input.sk-toggleable__control:checked~label.sk-toggleable__label {background-color: #d4ebff;}#sk-container-id-21 input.sk-hidden--visually {border: 0;clip: rect(1px 1px 1px 1px);clip: rect(1px, 1px, 1px, 1px);height: 1px;margin: -1px;overflow: hidden;padding: 0;position: absolute;width: 1px;}#sk-container-id-21 div.sk-estimator {font-family: monospace;background-color: #f0f8ff;border: 1px dotted black;border-radius: 0.25em;box-sizing: border-box;margin-bottom: 0.5em;}#sk-container-id-21 div.sk-estimator:hover {background-color: #d4ebff;}#sk-container-id-21 div.sk-parallel-item::after {content: \"\";width: 100%;border-bottom: 1px solid gray;flex-grow: 1;}#sk-container-id-21 div.sk-label:hover label.sk-toggleable__label {background-color: #d4ebff;}#sk-container-id-21 div.sk-serial::before {content: \"\";position: absolute;border-left: 1px solid gray;box-sizing: border-box;top: 0;bottom: 0;left: 50%;z-index: 0;}#sk-container-id-21 div.sk-serial {display: flex;flex-direction: column;align-items: center;background-color: white;padding-right: 0.2em;padding-left: 0.2em;position: relative;}#sk-container-id-21 div.sk-item {position: relative;z-index: 1;}#sk-container-id-21 div.sk-parallel {display: flex;align-items: stretch;justify-content: center;background-color: white;position: relative;}#sk-container-id-21 div.sk-item::before, #sk-container-id-21 div.sk-parallel-item::before {content: \"\";position: absolute;border-left: 1px solid gray;box-sizing: border-box;top: 0;bottom: 0;left: 50%;z-index: -1;}#sk-container-id-21 div.sk-parallel-item {display: flex;flex-direction: column;z-index: 1;position: relative;background-color: white;}#sk-container-id-21 div.sk-parallel-item:first-child::after {align-self: flex-end;width: 50%;}#sk-container-id-21 div.sk-parallel-item:last-child::after {align-self: flex-start;width: 50%;}#sk-container-id-21 div.sk-parallel-item:only-child::after {width: 0;}#sk-container-id-21 div.sk-dashed-wrapped {border: 1px dashed gray;margin: 0 0.4em 0.5em 0.4em;box-sizing: border-box;padding-bottom: 0.4em;background-color: white;}#sk-container-id-21 div.sk-label label {font-family: monospace;font-weight: bold;display: inline-block;line-height: 1.2em;}#sk-container-id-21 div.sk-label-container {text-align: center;}#sk-container-id-21 div.sk-container {/* jupyter's `normalize.less` sets `[hidden] { display: none; }` but bootstrap.min.css set `[hidden] { display: none !important; }` so we also need the `!important` here to be able to override the default hidden behavior on the sphinx rendered scikit-learn.org. See: https://github.com/scikit-learn/scikit-learn/issues/21755 */display: inline-block !important;position: relative;}#sk-container-id-21 div.sk-text-repr-fallback {display: none;}</style><div id=\"sk-container-id-21\" class=\"sk-top-container\"><div class=\"sk-text-repr-fallback\"><pre>SVC(C=1, gamma=1, kernel=&#x27;poly&#x27;)</pre><b>In a Jupyter environment, please rerun this cell to show the HTML representation or trust the notebook. <br />On GitHub, the HTML representation is unable to render, please try loading this page with nbviewer.org.</b></div><div class=\"sk-container\" hidden><div class=\"sk-item\"><div class=\"sk-estimator sk-toggleable\"><input class=\"sk-toggleable__control sk-hidden--visually\" id=\"sk-estimator-id-27\" type=\"checkbox\" checked><label for=\"sk-estimator-id-27\" class=\"sk-toggleable__label sk-toggleable__label-arrow\">SVC</label><div class=\"sk-toggleable__content\"><pre>SVC(C=1, gamma=1, kernel=&#x27;poly&#x27;)</pre></div></div></div></div></div>"
      ],
      "text/plain": [
       "SVC(C=1, gamma=1, kernel='poly')"
      ]
     },
     "execution_count": 301,
     "metadata": {},
     "output_type": "execute_result"
    }
   ],
   "source": [
    "poly_SVC_model.fit(X_train_new, y_train_class)"
   ]
  },
  {
   "cell_type": "code",
   "execution_count": 302,
   "id": "f4eefa8d",
   "metadata": {},
   "outputs": [],
   "source": [
    "y_pred_train = poly_SVC_model.predict(X_train_new)"
   ]
  },
  {
   "cell_type": "code",
   "execution_count": 303,
   "id": "163319f1",
   "metadata": {
    "scrolled": true
   },
   "outputs": [
    {
     "data": {
      "text/plain": [
       "array([[4846,   23],\n",
       "       [  20, 5144]])"
      ]
     },
     "execution_count": 303,
     "metadata": {},
     "output_type": "execute_result"
    }
   ],
   "source": [
    "confusion_matrix(y_train_class, y_pred_train)"
   ]
  },
  {
   "cell_type": "code",
   "execution_count": 353,
   "id": "6506761b",
   "metadata": {},
   "outputs": [
    {
     "data": {
      "text/plain": [
       "99.57141433270208"
      ]
     },
     "execution_count": 353,
     "metadata": {},
     "output_type": "execute_result"
    }
   ],
   "source": [
    "accuracy_SVC_train_1 = accuracy_score(y_train_class, y_pred_train)*100\n",
    "accuracy_SVC_train_1"
   ]
  },
  {
   "cell_type": "code",
   "execution_count": 305,
   "id": "b50dbf31",
   "metadata": {},
   "outputs": [],
   "source": [
    "y_pred_test = poly_SVC_model.predict(X_test_new)"
   ]
  },
  {
   "cell_type": "code",
   "execution_count": 355,
   "id": "461ff1ff",
   "metadata": {
    "scrolled": true
   },
   "outputs": [
    {
     "data": {
      "text/plain": [
       "96.83720930232558"
      ]
     },
     "execution_count": 355,
     "metadata": {},
     "output_type": "execute_result"
    }
   ],
   "source": [
    "accuracy_SVC_test_1 = accuracy_score(y_test_class, y_pred_test)*100\n",
    "accuracy_SVC_test_1"
   ]
  },
  {
   "cell_type": "markdown",
   "id": "d76b0e5b",
   "metadata": {},
   "source": [
    "#### Without  dummy "
   ]
  },
  {
   "cell_type": "code",
   "execution_count": null,
   "id": "72ebeadc",
   "metadata": {},
   "outputs": [],
   "source": []
  },
  {
   "cell_type": "code",
   "execution_count": 307,
   "id": "a1087a83",
   "metadata": {},
   "outputs": [],
   "source": [
    "SVC_model_tuning_2 = SVC()"
   ]
  },
  {
   "cell_type": "code",
   "execution_count": 308,
   "id": "503c02f7",
   "metadata": {},
   "outputs": [],
   "source": [
    "param_grid_SVC_2 = {\n",
    "    'C': [0.1, 1, 10, 100],  # Regularization parameter\n",
    "    'kernel': ['linear', 'rbf', 'poly'],  # Kernel types\n",
    "    'gamma': [0.001, 0.01, 0.1, 1]  # Kernel coefficient (for 'rbf' and 'poly' kernels)\n",
    "}"
   ]
  },
  {
   "cell_type": "code",
   "execution_count": 309,
   "id": "528e152c",
   "metadata": {},
   "outputs": [],
   "source": [
    "grid_search_SVC_2 = GridSearchCV(SVC_model_tuning_2, param_grid = param_grid_SVC_2, cv = 5)"
   ]
  },
  {
   "cell_type": "code",
   "execution_count": 310,
   "id": "5d6e6df3",
   "metadata": {},
   "outputs": [
    {
     "data": {
      "text/html": [
       "<style>#sk-container-id-22 {color: black;background-color: white;}#sk-container-id-22 pre{padding: 0;}#sk-container-id-22 div.sk-toggleable {background-color: white;}#sk-container-id-22 label.sk-toggleable__label {cursor: pointer;display: block;width: 100%;margin-bottom: 0;padding: 0.3em;box-sizing: border-box;text-align: center;}#sk-container-id-22 label.sk-toggleable__label-arrow:before {content: \"▸\";float: left;margin-right: 0.25em;color: #696969;}#sk-container-id-22 label.sk-toggleable__label-arrow:hover:before {color: black;}#sk-container-id-22 div.sk-estimator:hover label.sk-toggleable__label-arrow:before {color: black;}#sk-container-id-22 div.sk-toggleable__content {max-height: 0;max-width: 0;overflow: hidden;text-align: left;background-color: #f0f8ff;}#sk-container-id-22 div.sk-toggleable__content pre {margin: 0.2em;color: black;border-radius: 0.25em;background-color: #f0f8ff;}#sk-container-id-22 input.sk-toggleable__control:checked~div.sk-toggleable__content {max-height: 200px;max-width: 100%;overflow: auto;}#sk-container-id-22 input.sk-toggleable__control:checked~label.sk-toggleable__label-arrow:before {content: \"▾\";}#sk-container-id-22 div.sk-estimator input.sk-toggleable__control:checked~label.sk-toggleable__label {background-color: #d4ebff;}#sk-container-id-22 div.sk-label input.sk-toggleable__control:checked~label.sk-toggleable__label {background-color: #d4ebff;}#sk-container-id-22 input.sk-hidden--visually {border: 0;clip: rect(1px 1px 1px 1px);clip: rect(1px, 1px, 1px, 1px);height: 1px;margin: -1px;overflow: hidden;padding: 0;position: absolute;width: 1px;}#sk-container-id-22 div.sk-estimator {font-family: monospace;background-color: #f0f8ff;border: 1px dotted black;border-radius: 0.25em;box-sizing: border-box;margin-bottom: 0.5em;}#sk-container-id-22 div.sk-estimator:hover {background-color: #d4ebff;}#sk-container-id-22 div.sk-parallel-item::after {content: \"\";width: 100%;border-bottom: 1px solid gray;flex-grow: 1;}#sk-container-id-22 div.sk-label:hover label.sk-toggleable__label {background-color: #d4ebff;}#sk-container-id-22 div.sk-serial::before {content: \"\";position: absolute;border-left: 1px solid gray;box-sizing: border-box;top: 0;bottom: 0;left: 50%;z-index: 0;}#sk-container-id-22 div.sk-serial {display: flex;flex-direction: column;align-items: center;background-color: white;padding-right: 0.2em;padding-left: 0.2em;position: relative;}#sk-container-id-22 div.sk-item {position: relative;z-index: 1;}#sk-container-id-22 div.sk-parallel {display: flex;align-items: stretch;justify-content: center;background-color: white;position: relative;}#sk-container-id-22 div.sk-item::before, #sk-container-id-22 div.sk-parallel-item::before {content: \"\";position: absolute;border-left: 1px solid gray;box-sizing: border-box;top: 0;bottom: 0;left: 50%;z-index: -1;}#sk-container-id-22 div.sk-parallel-item {display: flex;flex-direction: column;z-index: 1;position: relative;background-color: white;}#sk-container-id-22 div.sk-parallel-item:first-child::after {align-self: flex-end;width: 50%;}#sk-container-id-22 div.sk-parallel-item:last-child::after {align-self: flex-start;width: 50%;}#sk-container-id-22 div.sk-parallel-item:only-child::after {width: 0;}#sk-container-id-22 div.sk-dashed-wrapped {border: 1px dashed gray;margin: 0 0.4em 0.5em 0.4em;box-sizing: border-box;padding-bottom: 0.4em;background-color: white;}#sk-container-id-22 div.sk-label label {font-family: monospace;font-weight: bold;display: inline-block;line-height: 1.2em;}#sk-container-id-22 div.sk-label-container {text-align: center;}#sk-container-id-22 div.sk-container {/* jupyter's `normalize.less` sets `[hidden] { display: none; }` but bootstrap.min.css set `[hidden] { display: none !important; }` so we also need the `!important` here to be able to override the default hidden behavior on the sphinx rendered scikit-learn.org. See: https://github.com/scikit-learn/scikit-learn/issues/21755 */display: inline-block !important;position: relative;}#sk-container-id-22 div.sk-text-repr-fallback {display: none;}</style><div id=\"sk-container-id-22\" class=\"sk-top-container\"><div class=\"sk-text-repr-fallback\"><pre>GridSearchCV(cv=5, estimator=SVC(),\n",
       "             param_grid={&#x27;C&#x27;: [0.1, 1, 10, 100], &#x27;gamma&#x27;: [0.001, 0.01, 0.1, 1],\n",
       "                         &#x27;kernel&#x27;: [&#x27;linear&#x27;, &#x27;rbf&#x27;, &#x27;poly&#x27;]})</pre><b>In a Jupyter environment, please rerun this cell to show the HTML representation or trust the notebook. <br />On GitHub, the HTML representation is unable to render, please try loading this page with nbviewer.org.</b></div><div class=\"sk-container\" hidden><div class=\"sk-item sk-dashed-wrapped\"><div class=\"sk-label-container\"><div class=\"sk-label sk-toggleable\"><input class=\"sk-toggleable__control sk-hidden--visually\" id=\"sk-estimator-id-28\" type=\"checkbox\" ><label for=\"sk-estimator-id-28\" class=\"sk-toggleable__label sk-toggleable__label-arrow\">GridSearchCV</label><div class=\"sk-toggleable__content\"><pre>GridSearchCV(cv=5, estimator=SVC(),\n",
       "             param_grid={&#x27;C&#x27;: [0.1, 1, 10, 100], &#x27;gamma&#x27;: [0.001, 0.01, 0.1, 1],\n",
       "                         &#x27;kernel&#x27;: [&#x27;linear&#x27;, &#x27;rbf&#x27;, &#x27;poly&#x27;]})</pre></div></div></div><div class=\"sk-parallel\"><div class=\"sk-parallel-item\"><div class=\"sk-item\"><div class=\"sk-label-container\"><div class=\"sk-label sk-toggleable\"><input class=\"sk-toggleable__control sk-hidden--visually\" id=\"sk-estimator-id-29\" type=\"checkbox\" ><label for=\"sk-estimator-id-29\" class=\"sk-toggleable__label sk-toggleable__label-arrow\">estimator: SVC</label><div class=\"sk-toggleable__content\"><pre>SVC()</pre></div></div></div><div class=\"sk-serial\"><div class=\"sk-item\"><div class=\"sk-estimator sk-toggleable\"><input class=\"sk-toggleable__control sk-hidden--visually\" id=\"sk-estimator-id-30\" type=\"checkbox\" ><label for=\"sk-estimator-id-30\" class=\"sk-toggleable__label sk-toggleable__label-arrow\">SVC</label><div class=\"sk-toggleable__content\"><pre>SVC()</pre></div></div></div></div></div></div></div></div></div></div>"
      ],
      "text/plain": [
       "GridSearchCV(cv=5, estimator=SVC(),\n",
       "             param_grid={'C': [0.1, 1, 10, 100], 'gamma': [0.001, 0.01, 0.1, 1],\n",
       "                         'kernel': ['linear', 'rbf', 'poly']})"
      ]
     },
     "execution_count": 310,
     "metadata": {},
     "output_type": "execute_result"
    }
   ],
   "source": [
    "grid_search_SVC_2.fit(train_labelled, y_train_class)"
   ]
  },
  {
   "cell_type": "code",
   "execution_count": 312,
   "id": "43b54e1f",
   "metadata": {},
   "outputs": [
    {
     "data": {
      "text/plain": [
       "{'C': 100, 'gamma': 1, 'kernel': 'rbf'}"
      ]
     },
     "execution_count": 312,
     "metadata": {},
     "output_type": "execute_result"
    }
   ],
   "source": [
    "best_params_SVC_2 = grid_search_SVC_2.best_params_\n",
    "best_params_SVC_2"
   ]
  },
  {
   "cell_type": "code",
   "execution_count": 313,
   "id": "5804f324",
   "metadata": {},
   "outputs": [],
   "source": [
    "poly_SVC_model_2 = SVC(C = 100, gamma = 1, kernel = 'rbf')"
   ]
  },
  {
   "cell_type": "code",
   "execution_count": 316,
   "id": "c518f2c8",
   "metadata": {},
   "outputs": [
    {
     "data": {
      "text/html": [
       "<style>#sk-container-id-24 {color: black;background-color: white;}#sk-container-id-24 pre{padding: 0;}#sk-container-id-24 div.sk-toggleable {background-color: white;}#sk-container-id-24 label.sk-toggleable__label {cursor: pointer;display: block;width: 100%;margin-bottom: 0;padding: 0.3em;box-sizing: border-box;text-align: center;}#sk-container-id-24 label.sk-toggleable__label-arrow:before {content: \"▸\";float: left;margin-right: 0.25em;color: #696969;}#sk-container-id-24 label.sk-toggleable__label-arrow:hover:before {color: black;}#sk-container-id-24 div.sk-estimator:hover label.sk-toggleable__label-arrow:before {color: black;}#sk-container-id-24 div.sk-toggleable__content {max-height: 0;max-width: 0;overflow: hidden;text-align: left;background-color: #f0f8ff;}#sk-container-id-24 div.sk-toggleable__content pre {margin: 0.2em;color: black;border-radius: 0.25em;background-color: #f0f8ff;}#sk-container-id-24 input.sk-toggleable__control:checked~div.sk-toggleable__content {max-height: 200px;max-width: 100%;overflow: auto;}#sk-container-id-24 input.sk-toggleable__control:checked~label.sk-toggleable__label-arrow:before {content: \"▾\";}#sk-container-id-24 div.sk-estimator input.sk-toggleable__control:checked~label.sk-toggleable__label {background-color: #d4ebff;}#sk-container-id-24 div.sk-label input.sk-toggleable__control:checked~label.sk-toggleable__label {background-color: #d4ebff;}#sk-container-id-24 input.sk-hidden--visually {border: 0;clip: rect(1px 1px 1px 1px);clip: rect(1px, 1px, 1px, 1px);height: 1px;margin: -1px;overflow: hidden;padding: 0;position: absolute;width: 1px;}#sk-container-id-24 div.sk-estimator {font-family: monospace;background-color: #f0f8ff;border: 1px dotted black;border-radius: 0.25em;box-sizing: border-box;margin-bottom: 0.5em;}#sk-container-id-24 div.sk-estimator:hover {background-color: #d4ebff;}#sk-container-id-24 div.sk-parallel-item::after {content: \"\";width: 100%;border-bottom: 1px solid gray;flex-grow: 1;}#sk-container-id-24 div.sk-label:hover label.sk-toggleable__label {background-color: #d4ebff;}#sk-container-id-24 div.sk-serial::before {content: \"\";position: absolute;border-left: 1px solid gray;box-sizing: border-box;top: 0;bottom: 0;left: 50%;z-index: 0;}#sk-container-id-24 div.sk-serial {display: flex;flex-direction: column;align-items: center;background-color: white;padding-right: 0.2em;padding-left: 0.2em;position: relative;}#sk-container-id-24 div.sk-item {position: relative;z-index: 1;}#sk-container-id-24 div.sk-parallel {display: flex;align-items: stretch;justify-content: center;background-color: white;position: relative;}#sk-container-id-24 div.sk-item::before, #sk-container-id-24 div.sk-parallel-item::before {content: \"\";position: absolute;border-left: 1px solid gray;box-sizing: border-box;top: 0;bottom: 0;left: 50%;z-index: -1;}#sk-container-id-24 div.sk-parallel-item {display: flex;flex-direction: column;z-index: 1;position: relative;background-color: white;}#sk-container-id-24 div.sk-parallel-item:first-child::after {align-self: flex-end;width: 50%;}#sk-container-id-24 div.sk-parallel-item:last-child::after {align-self: flex-start;width: 50%;}#sk-container-id-24 div.sk-parallel-item:only-child::after {width: 0;}#sk-container-id-24 div.sk-dashed-wrapped {border: 1px dashed gray;margin: 0 0.4em 0.5em 0.4em;box-sizing: border-box;padding-bottom: 0.4em;background-color: white;}#sk-container-id-24 div.sk-label label {font-family: monospace;font-weight: bold;display: inline-block;line-height: 1.2em;}#sk-container-id-24 div.sk-label-container {text-align: center;}#sk-container-id-24 div.sk-container {/* jupyter's `normalize.less` sets `[hidden] { display: none; }` but bootstrap.min.css set `[hidden] { display: none !important; }` so we also need the `!important` here to be able to override the default hidden behavior on the sphinx rendered scikit-learn.org. See: https://github.com/scikit-learn/scikit-learn/issues/21755 */display: inline-block !important;position: relative;}#sk-container-id-24 div.sk-text-repr-fallback {display: none;}</style><div id=\"sk-container-id-24\" class=\"sk-top-container\"><div class=\"sk-text-repr-fallback\"><pre>SVC(C=100, gamma=1)</pre><b>In a Jupyter environment, please rerun this cell to show the HTML representation or trust the notebook. <br />On GitHub, the HTML representation is unable to render, please try loading this page with nbviewer.org.</b></div><div class=\"sk-container\" hidden><div class=\"sk-item\"><div class=\"sk-estimator sk-toggleable\"><input class=\"sk-toggleable__control sk-hidden--visually\" id=\"sk-estimator-id-32\" type=\"checkbox\" checked><label for=\"sk-estimator-id-32\" class=\"sk-toggleable__label sk-toggleable__label-arrow\">SVC</label><div class=\"sk-toggleable__content\"><pre>SVC(C=100, gamma=1)</pre></div></div></div></div></div>"
      ],
      "text/plain": [
       "SVC(C=100, gamma=1)"
      ]
     },
     "execution_count": 316,
     "metadata": {},
     "output_type": "execute_result"
    }
   ],
   "source": [
    "poly_SVC_model_2.fit(train_labelled, y_train_class)"
   ]
  },
  {
   "cell_type": "code",
   "execution_count": 317,
   "id": "0e644ea7",
   "metadata": {},
   "outputs": [],
   "source": [
    "y_pred_train_2 = poly_SVC_model_2.predict(train_labelled)"
   ]
  },
  {
   "cell_type": "code",
   "execution_count": 318,
   "id": "899dfa06",
   "metadata": {
    "scrolled": true
   },
   "outputs": [
    {
     "data": {
      "text/plain": [
       "array([[4687,  182],\n",
       "       [ 109, 5055]])"
      ]
     },
     "execution_count": 318,
     "metadata": {},
     "output_type": "execute_result"
    }
   ],
   "source": [
    "confusion_matrix(y_train_class, y_pred_train_2)"
   ]
  },
  {
   "cell_type": "code",
   "execution_count": 356,
   "id": "f8efd9d2",
   "metadata": {},
   "outputs": [
    {
     "data": {
      "text/plain": [
       "97.0995714143327"
      ]
     },
     "execution_count": 356,
     "metadata": {},
     "output_type": "execute_result"
    }
   ],
   "source": [
    "accuracy_SVC_train_2 = accuracy_score(y_train_class, y_pred_train_2)*100\n",
    "accuracy_SVC_train_2"
   ]
  },
  {
   "cell_type": "code",
   "execution_count": 322,
   "id": "a301f56e",
   "metadata": {},
   "outputs": [],
   "source": [
    "y_pred_test_2 = poly_SVC_model_2.predict(test_labelled)"
   ]
  },
  {
   "cell_type": "code",
   "execution_count": 357,
   "id": "72f7d824",
   "metadata": {
    "scrolled": true
   },
   "outputs": [
    {
     "data": {
      "text/plain": [
       "96.83720930232558"
      ]
     },
     "execution_count": 357,
     "metadata": {},
     "output_type": "execute_result"
    }
   ],
   "source": [
    "accuracy_SVC_test_2 = accuracy_score(y_test_class, y_pred_test_2)*100\n",
    "accuracy_SVC_test_2"
   ]
  },
  {
   "cell_type": "code",
   "execution_count": null,
   "id": "01d7fa9c",
   "metadata": {},
   "outputs": [],
   "source": []
  },
  {
   "cell_type": "markdown",
   "id": "162de8e3",
   "metadata": {},
   "source": [
    "#### One feature"
   ]
  },
  {
   "cell_type": "code",
   "execution_count": 324,
   "id": "17f2b698",
   "metadata": {},
   "outputs": [],
   "source": [
    "SVC_model_tuning_3 = SVC()"
   ]
  },
  {
   "cell_type": "code",
   "execution_count": 325,
   "id": "e931b681",
   "metadata": {},
   "outputs": [],
   "source": [
    "param_grid_SVC_3 = {\n",
    "    'C': [0.1, 1, 10, 100],  # Regularization parameter\n",
    "    'kernel': ['linear', 'rbf', 'poly'],  # Kernel types\n",
    "    'gamma': [0.001, 0.01, 0.1, 1]  # Kernel coefficient (for 'rbf' and 'poly' kernels)\n",
    "}"
   ]
  },
  {
   "cell_type": "code",
   "execution_count": 326,
   "id": "2f60d9b9",
   "metadata": {},
   "outputs": [],
   "source": [
    "grid_search_SVC_3 = GridSearchCV(SVC_model_tuning_3, param_grid = param_grid_SVC_3, cv = 5)"
   ]
  },
  {
   "cell_type": "code",
   "execution_count": 327,
   "id": "d068cf66",
   "metadata": {},
   "outputs": [
    {
     "data": {
      "text/html": [
       "<style>#sk-container-id-25 {color: black;background-color: white;}#sk-container-id-25 pre{padding: 0;}#sk-container-id-25 div.sk-toggleable {background-color: white;}#sk-container-id-25 label.sk-toggleable__label {cursor: pointer;display: block;width: 100%;margin-bottom: 0;padding: 0.3em;box-sizing: border-box;text-align: center;}#sk-container-id-25 label.sk-toggleable__label-arrow:before {content: \"▸\";float: left;margin-right: 0.25em;color: #696969;}#sk-container-id-25 label.sk-toggleable__label-arrow:hover:before {color: black;}#sk-container-id-25 div.sk-estimator:hover label.sk-toggleable__label-arrow:before {color: black;}#sk-container-id-25 div.sk-toggleable__content {max-height: 0;max-width: 0;overflow: hidden;text-align: left;background-color: #f0f8ff;}#sk-container-id-25 div.sk-toggleable__content pre {margin: 0.2em;color: black;border-radius: 0.25em;background-color: #f0f8ff;}#sk-container-id-25 input.sk-toggleable__control:checked~div.sk-toggleable__content {max-height: 200px;max-width: 100%;overflow: auto;}#sk-container-id-25 input.sk-toggleable__control:checked~label.sk-toggleable__label-arrow:before {content: \"▾\";}#sk-container-id-25 div.sk-estimator input.sk-toggleable__control:checked~label.sk-toggleable__label {background-color: #d4ebff;}#sk-container-id-25 div.sk-label input.sk-toggleable__control:checked~label.sk-toggleable__label {background-color: #d4ebff;}#sk-container-id-25 input.sk-hidden--visually {border: 0;clip: rect(1px 1px 1px 1px);clip: rect(1px, 1px, 1px, 1px);height: 1px;margin: -1px;overflow: hidden;padding: 0;position: absolute;width: 1px;}#sk-container-id-25 div.sk-estimator {font-family: monospace;background-color: #f0f8ff;border: 1px dotted black;border-radius: 0.25em;box-sizing: border-box;margin-bottom: 0.5em;}#sk-container-id-25 div.sk-estimator:hover {background-color: #d4ebff;}#sk-container-id-25 div.sk-parallel-item::after {content: \"\";width: 100%;border-bottom: 1px solid gray;flex-grow: 1;}#sk-container-id-25 div.sk-label:hover label.sk-toggleable__label {background-color: #d4ebff;}#sk-container-id-25 div.sk-serial::before {content: \"\";position: absolute;border-left: 1px solid gray;box-sizing: border-box;top: 0;bottom: 0;left: 50%;z-index: 0;}#sk-container-id-25 div.sk-serial {display: flex;flex-direction: column;align-items: center;background-color: white;padding-right: 0.2em;padding-left: 0.2em;position: relative;}#sk-container-id-25 div.sk-item {position: relative;z-index: 1;}#sk-container-id-25 div.sk-parallel {display: flex;align-items: stretch;justify-content: center;background-color: white;position: relative;}#sk-container-id-25 div.sk-item::before, #sk-container-id-25 div.sk-parallel-item::before {content: \"\";position: absolute;border-left: 1px solid gray;box-sizing: border-box;top: 0;bottom: 0;left: 50%;z-index: -1;}#sk-container-id-25 div.sk-parallel-item {display: flex;flex-direction: column;z-index: 1;position: relative;background-color: white;}#sk-container-id-25 div.sk-parallel-item:first-child::after {align-self: flex-end;width: 50%;}#sk-container-id-25 div.sk-parallel-item:last-child::after {align-self: flex-start;width: 50%;}#sk-container-id-25 div.sk-parallel-item:only-child::after {width: 0;}#sk-container-id-25 div.sk-dashed-wrapped {border: 1px dashed gray;margin: 0 0.4em 0.5em 0.4em;box-sizing: border-box;padding-bottom: 0.4em;background-color: white;}#sk-container-id-25 div.sk-label label {font-family: monospace;font-weight: bold;display: inline-block;line-height: 1.2em;}#sk-container-id-25 div.sk-label-container {text-align: center;}#sk-container-id-25 div.sk-container {/* jupyter's `normalize.less` sets `[hidden] { display: none; }` but bootstrap.min.css set `[hidden] { display: none !important; }` so we also need the `!important` here to be able to override the default hidden behavior on the sphinx rendered scikit-learn.org. See: https://github.com/scikit-learn/scikit-learn/issues/21755 */display: inline-block !important;position: relative;}#sk-container-id-25 div.sk-text-repr-fallback {display: none;}</style><div id=\"sk-container-id-25\" class=\"sk-top-container\"><div class=\"sk-text-repr-fallback\"><pre>GridSearchCV(cv=5, estimator=SVC(),\n",
       "             param_grid={&#x27;C&#x27;: [0.1, 1, 10, 100], &#x27;gamma&#x27;: [0.001, 0.01, 0.1, 1],\n",
       "                         &#x27;kernel&#x27;: [&#x27;linear&#x27;, &#x27;rbf&#x27;, &#x27;poly&#x27;]})</pre><b>In a Jupyter environment, please rerun this cell to show the HTML representation or trust the notebook. <br />On GitHub, the HTML representation is unable to render, please try loading this page with nbviewer.org.</b></div><div class=\"sk-container\" hidden><div class=\"sk-item sk-dashed-wrapped\"><div class=\"sk-label-container\"><div class=\"sk-label sk-toggleable\"><input class=\"sk-toggleable__control sk-hidden--visually\" id=\"sk-estimator-id-33\" type=\"checkbox\" ><label for=\"sk-estimator-id-33\" class=\"sk-toggleable__label sk-toggleable__label-arrow\">GridSearchCV</label><div class=\"sk-toggleable__content\"><pre>GridSearchCV(cv=5, estimator=SVC(),\n",
       "             param_grid={&#x27;C&#x27;: [0.1, 1, 10, 100], &#x27;gamma&#x27;: [0.001, 0.01, 0.1, 1],\n",
       "                         &#x27;kernel&#x27;: [&#x27;linear&#x27;, &#x27;rbf&#x27;, &#x27;poly&#x27;]})</pre></div></div></div><div class=\"sk-parallel\"><div class=\"sk-parallel-item\"><div class=\"sk-item\"><div class=\"sk-label-container\"><div class=\"sk-label sk-toggleable\"><input class=\"sk-toggleable__control sk-hidden--visually\" id=\"sk-estimator-id-34\" type=\"checkbox\" ><label for=\"sk-estimator-id-34\" class=\"sk-toggleable__label sk-toggleable__label-arrow\">estimator: SVC</label><div class=\"sk-toggleable__content\"><pre>SVC()</pre></div></div></div><div class=\"sk-serial\"><div class=\"sk-item\"><div class=\"sk-estimator sk-toggleable\"><input class=\"sk-toggleable__control sk-hidden--visually\" id=\"sk-estimator-id-35\" type=\"checkbox\" ><label for=\"sk-estimator-id-35\" class=\"sk-toggleable__label sk-toggleable__label-arrow\">SVC</label><div class=\"sk-toggleable__content\"><pre>SVC()</pre></div></div></div></div></div></div></div></div></div></div>"
      ],
      "text/plain": [
       "GridSearchCV(cv=5, estimator=SVC(),\n",
       "             param_grid={'C': [0.1, 1, 10, 100], 'gamma': [0.001, 0.01, 0.1, 1],\n",
       "                         'kernel': ['linear', 'rbf', 'poly']})"
      ]
     },
     "execution_count": 327,
     "metadata": {},
     "output_type": "execute_result"
    }
   ],
   "source": [
    "grid_search_SVC_3.fit(X_train_new[[\"WLTP Metric High\"]], y_train_class)"
   ]
  },
  {
   "cell_type": "code",
   "execution_count": 328,
   "id": "0596654a",
   "metadata": {},
   "outputs": [
    {
     "data": {
      "text/plain": [
       "{'C': 0.1, 'gamma': 0.001, 'kernel': 'linear'}"
      ]
     },
     "execution_count": 328,
     "metadata": {},
     "output_type": "execute_result"
    }
   ],
   "source": [
    "best_params_SVC_3 = grid_search_SVC_3.best_params_\n",
    "best_params_SVC_3"
   ]
  },
  {
   "cell_type": "code",
   "execution_count": 330,
   "id": "d0ebbe7b",
   "metadata": {},
   "outputs": [],
   "source": [
    "poly_SVC_model_3 = SVC(C = 0.1, gamma = 0.001, kernel = 'linear')"
   ]
  },
  {
   "cell_type": "code",
   "execution_count": 331,
   "id": "8d93b2fd",
   "metadata": {},
   "outputs": [
    {
     "data": {
      "text/html": [
       "<style>#sk-container-id-26 {color: black;background-color: white;}#sk-container-id-26 pre{padding: 0;}#sk-container-id-26 div.sk-toggleable {background-color: white;}#sk-container-id-26 label.sk-toggleable__label {cursor: pointer;display: block;width: 100%;margin-bottom: 0;padding: 0.3em;box-sizing: border-box;text-align: center;}#sk-container-id-26 label.sk-toggleable__label-arrow:before {content: \"▸\";float: left;margin-right: 0.25em;color: #696969;}#sk-container-id-26 label.sk-toggleable__label-arrow:hover:before {color: black;}#sk-container-id-26 div.sk-estimator:hover label.sk-toggleable__label-arrow:before {color: black;}#sk-container-id-26 div.sk-toggleable__content {max-height: 0;max-width: 0;overflow: hidden;text-align: left;background-color: #f0f8ff;}#sk-container-id-26 div.sk-toggleable__content pre {margin: 0.2em;color: black;border-radius: 0.25em;background-color: #f0f8ff;}#sk-container-id-26 input.sk-toggleable__control:checked~div.sk-toggleable__content {max-height: 200px;max-width: 100%;overflow: auto;}#sk-container-id-26 input.sk-toggleable__control:checked~label.sk-toggleable__label-arrow:before {content: \"▾\";}#sk-container-id-26 div.sk-estimator input.sk-toggleable__control:checked~label.sk-toggleable__label {background-color: #d4ebff;}#sk-container-id-26 div.sk-label input.sk-toggleable__control:checked~label.sk-toggleable__label {background-color: #d4ebff;}#sk-container-id-26 input.sk-hidden--visually {border: 0;clip: rect(1px 1px 1px 1px);clip: rect(1px, 1px, 1px, 1px);height: 1px;margin: -1px;overflow: hidden;padding: 0;position: absolute;width: 1px;}#sk-container-id-26 div.sk-estimator {font-family: monospace;background-color: #f0f8ff;border: 1px dotted black;border-radius: 0.25em;box-sizing: border-box;margin-bottom: 0.5em;}#sk-container-id-26 div.sk-estimator:hover {background-color: #d4ebff;}#sk-container-id-26 div.sk-parallel-item::after {content: \"\";width: 100%;border-bottom: 1px solid gray;flex-grow: 1;}#sk-container-id-26 div.sk-label:hover label.sk-toggleable__label {background-color: #d4ebff;}#sk-container-id-26 div.sk-serial::before {content: \"\";position: absolute;border-left: 1px solid gray;box-sizing: border-box;top: 0;bottom: 0;left: 50%;z-index: 0;}#sk-container-id-26 div.sk-serial {display: flex;flex-direction: column;align-items: center;background-color: white;padding-right: 0.2em;padding-left: 0.2em;position: relative;}#sk-container-id-26 div.sk-item {position: relative;z-index: 1;}#sk-container-id-26 div.sk-parallel {display: flex;align-items: stretch;justify-content: center;background-color: white;position: relative;}#sk-container-id-26 div.sk-item::before, #sk-container-id-26 div.sk-parallel-item::before {content: \"\";position: absolute;border-left: 1px solid gray;box-sizing: border-box;top: 0;bottom: 0;left: 50%;z-index: -1;}#sk-container-id-26 div.sk-parallel-item {display: flex;flex-direction: column;z-index: 1;position: relative;background-color: white;}#sk-container-id-26 div.sk-parallel-item:first-child::after {align-self: flex-end;width: 50%;}#sk-container-id-26 div.sk-parallel-item:last-child::after {align-self: flex-start;width: 50%;}#sk-container-id-26 div.sk-parallel-item:only-child::after {width: 0;}#sk-container-id-26 div.sk-dashed-wrapped {border: 1px dashed gray;margin: 0 0.4em 0.5em 0.4em;box-sizing: border-box;padding-bottom: 0.4em;background-color: white;}#sk-container-id-26 div.sk-label label {font-family: monospace;font-weight: bold;display: inline-block;line-height: 1.2em;}#sk-container-id-26 div.sk-label-container {text-align: center;}#sk-container-id-26 div.sk-container {/* jupyter's `normalize.less` sets `[hidden] { display: none; }` but bootstrap.min.css set `[hidden] { display: none !important; }` so we also need the `!important` here to be able to override the default hidden behavior on the sphinx rendered scikit-learn.org. See: https://github.com/scikit-learn/scikit-learn/issues/21755 */display: inline-block !important;position: relative;}#sk-container-id-26 div.sk-text-repr-fallback {display: none;}</style><div id=\"sk-container-id-26\" class=\"sk-top-container\"><div class=\"sk-text-repr-fallback\"><pre>SVC(C=0.1, gamma=0.001, kernel=&#x27;linear&#x27;)</pre><b>In a Jupyter environment, please rerun this cell to show the HTML representation or trust the notebook. <br />On GitHub, the HTML representation is unable to render, please try loading this page with nbviewer.org.</b></div><div class=\"sk-container\" hidden><div class=\"sk-item\"><div class=\"sk-estimator sk-toggleable\"><input class=\"sk-toggleable__control sk-hidden--visually\" id=\"sk-estimator-id-36\" type=\"checkbox\" checked><label for=\"sk-estimator-id-36\" class=\"sk-toggleable__label sk-toggleable__label-arrow\">SVC</label><div class=\"sk-toggleable__content\"><pre>SVC(C=0.1, gamma=0.001, kernel=&#x27;linear&#x27;)</pre></div></div></div></div></div>"
      ],
      "text/plain": [
       "SVC(C=0.1, gamma=0.001, kernel='linear')"
      ]
     },
     "execution_count": 331,
     "metadata": {},
     "output_type": "execute_result"
    }
   ],
   "source": [
    "poly_SVC_model_3.fit(X_train_new[[\"WLTP Metric High\"]], y_train_class)"
   ]
  },
  {
   "cell_type": "code",
   "execution_count": 332,
   "id": "c4b12159",
   "metadata": {},
   "outputs": [],
   "source": [
    "y_pred_train_3 = poly_SVC_model_3.predict(X_train_new[[\"WLTP Metric High\"]])"
   ]
  },
  {
   "cell_type": "code",
   "execution_count": 333,
   "id": "d963e86d",
   "metadata": {
    "scrolled": true
   },
   "outputs": [
    {
     "data": {
      "text/plain": [
       "array([[4240,  629],\n",
       "       [ 349, 4815]])"
      ]
     },
     "execution_count": 333,
     "metadata": {},
     "output_type": "execute_result"
    }
   ],
   "source": [
    "confusion_matrix(y_train_class, y_pred_train_3)"
   ]
  },
  {
   "cell_type": "code",
   "execution_count": 359,
   "id": "e1dd16d4",
   "metadata": {},
   "outputs": [
    {
     "data": {
      "text/plain": [
       "90.25216784610784"
      ]
     },
     "execution_count": 359,
     "metadata": {},
     "output_type": "execute_result"
    }
   ],
   "source": [
    "accuracy_SVC_train_3 = accuracy_score(y_train_class, y_pred_train_3)*100\n",
    "accuracy_SVC_train_3"
   ]
  },
  {
   "cell_type": "code",
   "execution_count": 336,
   "id": "070cb07c",
   "metadata": {},
   "outputs": [],
   "source": [
    "y_pred_test_3 = poly_SVC_model_3.predict(X_test_new[[\"WLTP Metric High\"]])"
   ]
  },
  {
   "cell_type": "code",
   "execution_count": 360,
   "id": "3238fe32",
   "metadata": {
    "scrolled": true
   },
   "outputs": [
    {
     "data": {
      "text/plain": [
       "90.34883720930232"
      ]
     },
     "execution_count": 360,
     "metadata": {},
     "output_type": "execute_result"
    }
   ],
   "source": [
    "accuracy_SVC_test_3 = accuracy_score(y_test_class, y_pred_test_3)*100\n",
    "accuracy_SVC_test_3"
   ]
  },
  {
   "cell_type": "code",
   "execution_count": null,
   "id": "08d5bced",
   "metadata": {},
   "outputs": [],
   "source": [
    "# Two features"
   ]
  },
  {
   "cell_type": "code",
   "execution_count": 339,
   "id": "7ecf568c",
   "metadata": {},
   "outputs": [],
   "source": [
    "SVC_model_tuning_4 = SVC()"
   ]
  },
  {
   "cell_type": "code",
   "execution_count": 340,
   "id": "cb3b7e41",
   "metadata": {},
   "outputs": [],
   "source": [
    "param_grid_SVC_4 = {\n",
    "    'C': [0.1, 1, 10, 100],  # Regularization parameter\n",
    "    'kernel': ['linear', 'rbf', 'poly'],  # Kernel types\n",
    "    'gamma': [0.001, 0.01, 0.1, 1]  # Kernel coefficient (for 'rbf' and 'poly' kernels)\n",
    "}"
   ]
  },
  {
   "cell_type": "code",
   "execution_count": 341,
   "id": "63246a77",
   "metadata": {},
   "outputs": [],
   "source": [
    "grid_search_SVC_4 = GridSearchCV(SVC_model_tuning_4, param_grid = param_grid_SVC_4, cv = 5)"
   ]
  },
  {
   "cell_type": "code",
   "execution_count": 342,
   "id": "4b910f54",
   "metadata": {},
   "outputs": [
    {
     "data": {
      "text/html": [
       "<style>#sk-container-id-27 {color: black;background-color: white;}#sk-container-id-27 pre{padding: 0;}#sk-container-id-27 div.sk-toggleable {background-color: white;}#sk-container-id-27 label.sk-toggleable__label {cursor: pointer;display: block;width: 100%;margin-bottom: 0;padding: 0.3em;box-sizing: border-box;text-align: center;}#sk-container-id-27 label.sk-toggleable__label-arrow:before {content: \"▸\";float: left;margin-right: 0.25em;color: #696969;}#sk-container-id-27 label.sk-toggleable__label-arrow:hover:before {color: black;}#sk-container-id-27 div.sk-estimator:hover label.sk-toggleable__label-arrow:before {color: black;}#sk-container-id-27 div.sk-toggleable__content {max-height: 0;max-width: 0;overflow: hidden;text-align: left;background-color: #f0f8ff;}#sk-container-id-27 div.sk-toggleable__content pre {margin: 0.2em;color: black;border-radius: 0.25em;background-color: #f0f8ff;}#sk-container-id-27 input.sk-toggleable__control:checked~div.sk-toggleable__content {max-height: 200px;max-width: 100%;overflow: auto;}#sk-container-id-27 input.sk-toggleable__control:checked~label.sk-toggleable__label-arrow:before {content: \"▾\";}#sk-container-id-27 div.sk-estimator input.sk-toggleable__control:checked~label.sk-toggleable__label {background-color: #d4ebff;}#sk-container-id-27 div.sk-label input.sk-toggleable__control:checked~label.sk-toggleable__label {background-color: #d4ebff;}#sk-container-id-27 input.sk-hidden--visually {border: 0;clip: rect(1px 1px 1px 1px);clip: rect(1px, 1px, 1px, 1px);height: 1px;margin: -1px;overflow: hidden;padding: 0;position: absolute;width: 1px;}#sk-container-id-27 div.sk-estimator {font-family: monospace;background-color: #f0f8ff;border: 1px dotted black;border-radius: 0.25em;box-sizing: border-box;margin-bottom: 0.5em;}#sk-container-id-27 div.sk-estimator:hover {background-color: #d4ebff;}#sk-container-id-27 div.sk-parallel-item::after {content: \"\";width: 100%;border-bottom: 1px solid gray;flex-grow: 1;}#sk-container-id-27 div.sk-label:hover label.sk-toggleable__label {background-color: #d4ebff;}#sk-container-id-27 div.sk-serial::before {content: \"\";position: absolute;border-left: 1px solid gray;box-sizing: border-box;top: 0;bottom: 0;left: 50%;z-index: 0;}#sk-container-id-27 div.sk-serial {display: flex;flex-direction: column;align-items: center;background-color: white;padding-right: 0.2em;padding-left: 0.2em;position: relative;}#sk-container-id-27 div.sk-item {position: relative;z-index: 1;}#sk-container-id-27 div.sk-parallel {display: flex;align-items: stretch;justify-content: center;background-color: white;position: relative;}#sk-container-id-27 div.sk-item::before, #sk-container-id-27 div.sk-parallel-item::before {content: \"\";position: absolute;border-left: 1px solid gray;box-sizing: border-box;top: 0;bottom: 0;left: 50%;z-index: -1;}#sk-container-id-27 div.sk-parallel-item {display: flex;flex-direction: column;z-index: 1;position: relative;background-color: white;}#sk-container-id-27 div.sk-parallel-item:first-child::after {align-self: flex-end;width: 50%;}#sk-container-id-27 div.sk-parallel-item:last-child::after {align-self: flex-start;width: 50%;}#sk-container-id-27 div.sk-parallel-item:only-child::after {width: 0;}#sk-container-id-27 div.sk-dashed-wrapped {border: 1px dashed gray;margin: 0 0.4em 0.5em 0.4em;box-sizing: border-box;padding-bottom: 0.4em;background-color: white;}#sk-container-id-27 div.sk-label label {font-family: monospace;font-weight: bold;display: inline-block;line-height: 1.2em;}#sk-container-id-27 div.sk-label-container {text-align: center;}#sk-container-id-27 div.sk-container {/* jupyter's `normalize.less` sets `[hidden] { display: none; }` but bootstrap.min.css set `[hidden] { display: none !important; }` so we also need the `!important` here to be able to override the default hidden behavior on the sphinx rendered scikit-learn.org. See: https://github.com/scikit-learn/scikit-learn/issues/21755 */display: inline-block !important;position: relative;}#sk-container-id-27 div.sk-text-repr-fallback {display: none;}</style><div id=\"sk-container-id-27\" class=\"sk-top-container\"><div class=\"sk-text-repr-fallback\"><pre>GridSearchCV(cv=5, estimator=SVC(),\n",
       "             param_grid={&#x27;C&#x27;: [0.1, 1, 10, 100], &#x27;gamma&#x27;: [0.001, 0.01, 0.1, 1],\n",
       "                         &#x27;kernel&#x27;: [&#x27;linear&#x27;, &#x27;rbf&#x27;, &#x27;poly&#x27;]})</pre><b>In a Jupyter environment, please rerun this cell to show the HTML representation or trust the notebook. <br />On GitHub, the HTML representation is unable to render, please try loading this page with nbviewer.org.</b></div><div class=\"sk-container\" hidden><div class=\"sk-item sk-dashed-wrapped\"><div class=\"sk-label-container\"><div class=\"sk-label sk-toggleable\"><input class=\"sk-toggleable__control sk-hidden--visually\" id=\"sk-estimator-id-37\" type=\"checkbox\" ><label for=\"sk-estimator-id-37\" class=\"sk-toggleable__label sk-toggleable__label-arrow\">GridSearchCV</label><div class=\"sk-toggleable__content\"><pre>GridSearchCV(cv=5, estimator=SVC(),\n",
       "             param_grid={&#x27;C&#x27;: [0.1, 1, 10, 100], &#x27;gamma&#x27;: [0.001, 0.01, 0.1, 1],\n",
       "                         &#x27;kernel&#x27;: [&#x27;linear&#x27;, &#x27;rbf&#x27;, &#x27;poly&#x27;]})</pre></div></div></div><div class=\"sk-parallel\"><div class=\"sk-parallel-item\"><div class=\"sk-item\"><div class=\"sk-label-container\"><div class=\"sk-label sk-toggleable\"><input class=\"sk-toggleable__control sk-hidden--visually\" id=\"sk-estimator-id-38\" type=\"checkbox\" ><label for=\"sk-estimator-id-38\" class=\"sk-toggleable__label sk-toggleable__label-arrow\">estimator: SVC</label><div class=\"sk-toggleable__content\"><pre>SVC()</pre></div></div></div><div class=\"sk-serial\"><div class=\"sk-item\"><div class=\"sk-estimator sk-toggleable\"><input class=\"sk-toggleable__control sk-hidden--visually\" id=\"sk-estimator-id-39\" type=\"checkbox\" ><label for=\"sk-estimator-id-39\" class=\"sk-toggleable__label sk-toggleable__label-arrow\">SVC</label><div class=\"sk-toggleable__content\"><pre>SVC()</pre></div></div></div></div></div></div></div></div></div></div>"
      ],
      "text/plain": [
       "GridSearchCV(cv=5, estimator=SVC(),\n",
       "             param_grid={'C': [0.1, 1, 10, 100], 'gamma': [0.001, 0.01, 0.1, 1],\n",
       "                         'kernel': ['linear', 'rbf', 'poly']})"
      ]
     },
     "execution_count": 342,
     "metadata": {},
     "output_type": "execute_result"
    }
   ],
   "source": [
    "grid_search_SVC_4.fit(X_train_new[['WLTP Metric High', 'WLTP Metric Combined']], y_train_class)"
   ]
  },
  {
   "cell_type": "code",
   "execution_count": 343,
   "id": "05374274",
   "metadata": {},
   "outputs": [
    {
     "data": {
      "text/plain": [
       "{'C': 100, 'gamma': 1, 'kernel': 'rbf'}"
      ]
     },
     "execution_count": 343,
     "metadata": {},
     "output_type": "execute_result"
    }
   ],
   "source": [
    "best_params_SVC_4 = grid_search_SVC_4.best_params_\n",
    "best_params_SVC_4"
   ]
  },
  {
   "cell_type": "code",
   "execution_count": 344,
   "id": "c175da85",
   "metadata": {},
   "outputs": [],
   "source": [
    "poly_SVC_model_4 = SVC(C = 100, gamma = 1, kernel = 'rbf')"
   ]
  },
  {
   "cell_type": "code",
   "execution_count": 345,
   "id": "93367696",
   "metadata": {},
   "outputs": [
    {
     "data": {
      "text/html": [
       "<style>#sk-container-id-28 {color: black;background-color: white;}#sk-container-id-28 pre{padding: 0;}#sk-container-id-28 div.sk-toggleable {background-color: white;}#sk-container-id-28 label.sk-toggleable__label {cursor: pointer;display: block;width: 100%;margin-bottom: 0;padding: 0.3em;box-sizing: border-box;text-align: center;}#sk-container-id-28 label.sk-toggleable__label-arrow:before {content: \"▸\";float: left;margin-right: 0.25em;color: #696969;}#sk-container-id-28 label.sk-toggleable__label-arrow:hover:before {color: black;}#sk-container-id-28 div.sk-estimator:hover label.sk-toggleable__label-arrow:before {color: black;}#sk-container-id-28 div.sk-toggleable__content {max-height: 0;max-width: 0;overflow: hidden;text-align: left;background-color: #f0f8ff;}#sk-container-id-28 div.sk-toggleable__content pre {margin: 0.2em;color: black;border-radius: 0.25em;background-color: #f0f8ff;}#sk-container-id-28 input.sk-toggleable__control:checked~div.sk-toggleable__content {max-height: 200px;max-width: 100%;overflow: auto;}#sk-container-id-28 input.sk-toggleable__control:checked~label.sk-toggleable__label-arrow:before {content: \"▾\";}#sk-container-id-28 div.sk-estimator input.sk-toggleable__control:checked~label.sk-toggleable__label {background-color: #d4ebff;}#sk-container-id-28 div.sk-label input.sk-toggleable__control:checked~label.sk-toggleable__label {background-color: #d4ebff;}#sk-container-id-28 input.sk-hidden--visually {border: 0;clip: rect(1px 1px 1px 1px);clip: rect(1px, 1px, 1px, 1px);height: 1px;margin: -1px;overflow: hidden;padding: 0;position: absolute;width: 1px;}#sk-container-id-28 div.sk-estimator {font-family: monospace;background-color: #f0f8ff;border: 1px dotted black;border-radius: 0.25em;box-sizing: border-box;margin-bottom: 0.5em;}#sk-container-id-28 div.sk-estimator:hover {background-color: #d4ebff;}#sk-container-id-28 div.sk-parallel-item::after {content: \"\";width: 100%;border-bottom: 1px solid gray;flex-grow: 1;}#sk-container-id-28 div.sk-label:hover label.sk-toggleable__label {background-color: #d4ebff;}#sk-container-id-28 div.sk-serial::before {content: \"\";position: absolute;border-left: 1px solid gray;box-sizing: border-box;top: 0;bottom: 0;left: 50%;z-index: 0;}#sk-container-id-28 div.sk-serial {display: flex;flex-direction: column;align-items: center;background-color: white;padding-right: 0.2em;padding-left: 0.2em;position: relative;}#sk-container-id-28 div.sk-item {position: relative;z-index: 1;}#sk-container-id-28 div.sk-parallel {display: flex;align-items: stretch;justify-content: center;background-color: white;position: relative;}#sk-container-id-28 div.sk-item::before, #sk-container-id-28 div.sk-parallel-item::before {content: \"\";position: absolute;border-left: 1px solid gray;box-sizing: border-box;top: 0;bottom: 0;left: 50%;z-index: -1;}#sk-container-id-28 div.sk-parallel-item {display: flex;flex-direction: column;z-index: 1;position: relative;background-color: white;}#sk-container-id-28 div.sk-parallel-item:first-child::after {align-self: flex-end;width: 50%;}#sk-container-id-28 div.sk-parallel-item:last-child::after {align-self: flex-start;width: 50%;}#sk-container-id-28 div.sk-parallel-item:only-child::after {width: 0;}#sk-container-id-28 div.sk-dashed-wrapped {border: 1px dashed gray;margin: 0 0.4em 0.5em 0.4em;box-sizing: border-box;padding-bottom: 0.4em;background-color: white;}#sk-container-id-28 div.sk-label label {font-family: monospace;font-weight: bold;display: inline-block;line-height: 1.2em;}#sk-container-id-28 div.sk-label-container {text-align: center;}#sk-container-id-28 div.sk-container {/* jupyter's `normalize.less` sets `[hidden] { display: none; }` but bootstrap.min.css set `[hidden] { display: none !important; }` so we also need the `!important` here to be able to override the default hidden behavior on the sphinx rendered scikit-learn.org. See: https://github.com/scikit-learn/scikit-learn/issues/21755 */display: inline-block !important;position: relative;}#sk-container-id-28 div.sk-text-repr-fallback {display: none;}</style><div id=\"sk-container-id-28\" class=\"sk-top-container\"><div class=\"sk-text-repr-fallback\"><pre>SVC(C=100, gamma=1)</pre><b>In a Jupyter environment, please rerun this cell to show the HTML representation or trust the notebook. <br />On GitHub, the HTML representation is unable to render, please try loading this page with nbviewer.org.</b></div><div class=\"sk-container\" hidden><div class=\"sk-item\"><div class=\"sk-estimator sk-toggleable\"><input class=\"sk-toggleable__control sk-hidden--visually\" id=\"sk-estimator-id-40\" type=\"checkbox\" checked><label for=\"sk-estimator-id-40\" class=\"sk-toggleable__label sk-toggleable__label-arrow\">SVC</label><div class=\"sk-toggleable__content\"><pre>SVC(C=100, gamma=1)</pre></div></div></div></div></div>"
      ],
      "text/plain": [
       "SVC(C=100, gamma=1)"
      ]
     },
     "execution_count": 345,
     "metadata": {},
     "output_type": "execute_result"
    }
   ],
   "source": [
    "poly_SVC_model_4.fit(X_train_new[['WLTP Metric High', 'WLTP Metric Combined']], y_train_class)"
   ]
  },
  {
   "cell_type": "code",
   "execution_count": 346,
   "id": "5eba0f65",
   "metadata": {},
   "outputs": [],
   "source": [
    "y_pred_train_4 = poly_SVC_model_4.predict(X_train_new[['WLTP Metric High', 'WLTP Metric Combined']])"
   ]
  },
  {
   "cell_type": "code",
   "execution_count": 347,
   "id": "fdc41d36",
   "metadata": {
    "scrolled": true
   },
   "outputs": [
    {
     "data": {
      "text/plain": [
       "array([[4262,  607],\n",
       "       [ 226, 4938]])"
      ]
     },
     "execution_count": 347,
     "metadata": {},
     "output_type": "execute_result"
    }
   ],
   "source": [
    "confusion_matrix(y_train_class, y_pred_train_4)"
   ]
  },
  {
   "cell_type": "code",
   "execution_count": 361,
   "id": "6cafc775",
   "metadata": {},
   "outputs": [
    {
     "data": {
      "text/plain": [
       "91.69739858467058"
      ]
     },
     "execution_count": 361,
     "metadata": {},
     "output_type": "execute_result"
    }
   ],
   "source": [
    "accuracy_SVC_train_4 = accuracy_score(y_train_class, y_pred_train_4)*100\n",
    "accuracy_SVC_train_4"
   ]
  },
  {
   "cell_type": "code",
   "execution_count": 349,
   "id": "2a99201f",
   "metadata": {},
   "outputs": [],
   "source": [
    "y_pred_test_4 = poly_SVC_model_4.predict(X_test_new[['WLTP Metric High', 'WLTP Metric Combined']])"
   ]
  },
  {
   "cell_type": "code",
   "execution_count": 362,
   "id": "8adaa03f",
   "metadata": {
    "scrolled": true
   },
   "outputs": [
    {
     "data": {
      "text/plain": [
       "91.90697674418604"
      ]
     },
     "execution_count": 362,
     "metadata": {},
     "output_type": "execute_result"
    }
   ],
   "source": [
    "accuracy_SVC_test_4 = accuracy_score(y_test_class, y_pred_test_4)*100\n",
    "accuracy_SVC_test_4"
   ]
  },
  {
   "cell_type": "markdown",
   "id": "5918e996",
   "metadata": {},
   "source": [
    "#### PLot"
   ]
  },
  {
   "cell_type": "code",
   "execution_count": 363,
   "id": "f1485d03",
   "metadata": {},
   "outputs": [],
   "source": [
    "test_SVC_accuracies = [accuracy_SVC_test_1, accuracy_SVC_test_2, accuracy_SVC_test_3, accuracy_SVC_test_4]\n",
    "features = [\"All features\", \"Without Dummy\", 1, 2]"
   ]
  },
  {
   "cell_type": "code",
   "execution_count": 373,
   "id": "54f60483",
   "metadata": {
    "scrolled": false
   },
   "outputs": [
    {
     "data": {
      "image/png": "[encoded data removed]",
      "text/plain": [
       "<Figure size 640x480 with 1 Axes>"
      ]
     },
     "metadata": {},
     "output_type": "display_data"
    }
   ],
   "source": [
    "max_val = max(test_SVC_accuracies)\n",
    "max_index = test_SVC_accuracies.index(max_val)\n",
    "\n",
    "plt.plot(features, test_SVC_accuracies, \"-+\")\n",
    "plt.grid(True)\n",
    "plt.ylim(0,100)\n",
    "plt.show()"
   ]
  },
  {
   "cell_type": "code",
   "execution_count": 375,
   "id": "b840c791",
   "metadata": {},
   "outputs": [],
   "source": [
    "train_SVC_accuracies = [accuracy_SVC_train_1, accuracy_SVC_train_2, accuracy_SVC_train_3, accuracy_SVC_train_4]\n",
    "features = [\"All features\", \"Without Dummy\", 1, 2]"
   ]
  },
  {
   "cell_type": "code",
   "execution_count": 376,
   "id": "803782ce",
   "metadata": {
    "scrolled": false
   },
   "outputs": [
    {
     "data": {
      "image/png": "[encoded data removed]",
      "text/plain": [
       "<Figure size 640x480 with 1 Axes>"
      ]
     },
     "metadata": {},
     "output_type": "display_data"
    }
   ],
   "source": [
    "max_val = max(train_SVC_accuracies)\n",
    "max_index = train_SVC_accuracies.index(max_val)\n",
    "\n",
    "plt.plot(features, train_SVC_accuracies, \"-+\")\n",
    "plt.grid(True)\n",
    "plt.ylim(0,100)\n",
    "plt.show()"
   ]
  },
  {
   "cell_type": "code",
   "execution_count": 377,
   "id": "f5573a7d",
   "metadata": {
    "scrolled": false
   },
   "outputs": [
    {
     "data": {
      "image/png": "[encoded data removed]",
      "text/plain": [
       "<Figure size 640x480 with 1 Axes>"
      ]
     },
     "metadata": {},
     "output_type": "display_data"
    }
   ],
   "source": [
    "plt.plot(features, train_SVC_accuracies, \"-+\")\n",
    "plt.plot(features, test_SVC_accuracies, \"-+\")\n",
    "plt.grid(True)\n",
    "plt.ylim(0,100)\n",
    "plt.show()"
   ]
  },
  {
   "cell_type": "markdown",
   "id": "6a8634b0",
   "metadata": {},
   "source": [
    "### Neural Network"
   ]
  },
  {
   "cell_type": "code",
   "execution_count": 426,
   "id": "4138762e",
   "metadata": {},
   "outputs": [],
   "source": [
    "n_samples, n_features = train_labelled.shape"
   ]
  },
  {
   "cell_type": "code",
   "execution_count": 441,
   "id": "13c69ef0",
   "metadata": {},
   "outputs": [],
   "source": [
    "y_train_binary = []\n",
    "y_test_binary = []\n",
    "\n",
    "for each in y_train:\n",
    "    if each > svc_threshold:\n",
    "        y_train_binary.append(1)\n",
    "    else:\n",
    "        y_train_binary.append(0)\n",
    "\n",
    "for each in y_test:\n",
    "    if each > svc_threshold:\n",
    "        y_test_binary.append(1)\n",
    "    else:\n",
    "        y_test_binary.append(0)"
   ]
  },
  {
   "cell_type": "code",
   "execution_count": 442,
   "id": "b53da60c",
   "metadata": {},
   "outputs": [],
   "source": [
    "import torch\n",
    "import torch.nn as nn"
   ]
  },
  {
   "cell_type": "code",
   "execution_count": 456,
   "id": "cc5c1d5d",
   "metadata": {},
   "outputs": [],
   "source": [
    "X_train_neural = train_labelled.to_numpy(dtype = 'float32')\n",
    "X_test_neural = test_labelled.to_numpy(dtype = 'float32')"
   ]
  },
  {
   "cell_type": "code",
   "execution_count": 457,
   "id": "76a1fa4d",
   "metadata": {},
   "outputs": [],
   "source": [
    "X_train_neural = torch.from_numpy(X_train_neural)\n",
    "X_test_neural = torch.from_numpy(X_test_neural)"
   ]
  },
  {
   "cell_type": "code",
   "execution_count": 458,
   "id": "2719133d",
   "metadata": {},
   "outputs": [],
   "source": [
    "y_train_class_arr = np.array(y_train_binary)\n",
    "y_test_class_arr = np.array(y_test_binary)"
   ]
  },
  {
   "cell_type": "code",
   "execution_count": 459,
   "id": "44ea596e",
   "metadata": {},
   "outputs": [],
   "source": [
    "y_train_neural = torch.from_numpy(y_train_class_arr.astype(np.float32))\n",
    "y_test_neural = torch.from_numpy(y_test_class_arr.astype(np.float32))"
   ]
  },
  {
   "cell_type": "code",
   "execution_count": 460,
   "id": "35c5b2dd",
   "metadata": {},
   "outputs": [],
   "source": [
    "y_train_neural = y_train_neural.view(y_train_neural.shape[0], 1)\n",
    "y_test_neural = y_test_neural.view(y_test_neural.shape[0], 1)"
   ]
  },
  {
   "cell_type": "code",
   "execution_count": 461,
   "id": "c0abeaad",
   "metadata": {},
   "outputs": [],
   "source": [
    "class LogisticRegression(nn.Module):\n",
    "    \n",
    "    def __init__(self, n_input_features):\n",
    "        super(LogisticRegression, self).__init__()\n",
    "        self.linear = nn.Linear(n_input_features, 1)\n",
    "        \n",
    "    def forward(self, x):\n",
    "        y_predicted = torch.sigmoid(self.linear(x))\n",
    "        return y_predicted"
   ]
  },
  {
   "cell_type": "code",
   "execution_count": 462,
   "id": "e6f0fb77",
   "metadata": {},
   "outputs": [],
   "source": [
    "model = LogisticRegression(n_features)"
   ]
  },
  {
   "cell_type": "code",
   "execution_count": 463,
   "id": "c9c1ae7e",
   "metadata": {},
   "outputs": [],
   "source": [
    "# Loss and optimizer\n",
    "\n",
    "learning_rate = 0.01\n",
    "criterion = nn.BCELoss()\n",
    "optimizer = torch.optim.SGD(model.parameters(), lr = learning_rate)"
   ]
  },
  {
   "cell_type": "code",
   "execution_count": 464,
   "id": "2d2dfc42",
   "metadata": {},
   "outputs": [
    {
     "name": "stdout",
     "output_type": "stream",
     "text": [
      "epoch:10, loss = 0.9374\n",
      "epoch:20, loss = 0.8487\n",
      "epoch:30, loss = 0.7752\n",
      "epoch:40, loss = 0.7159\n",
      "epoch:50, loss = 0.6685\n",
      "epoch:60, loss = 0.6306\n",
      "epoch:70, loss = 0.5998\n",
      "epoch:80, loss = 0.5743\n",
      "epoch:90, loss = 0.5528\n",
      "epoch:100, loss = 0.5344\n"
     ]
    }
   ],
   "source": [
    "# training loop\n",
    "\n",
    "num_epochs = 100\n",
    "for epoch in range(num_epochs):\n",
    "    \n",
    "    # forward pass and loss\n",
    "    y_predicted = model(X_train_neural)\n",
    "    loss = criterion(y_predicted, y_train_neural)\n",
    "    \n",
    "    #Backward pass\n",
    "    loss.backward()\n",
    "    \n",
    "    #updates\n",
    "    optimizer.step()\n",
    "    \n",
    "    #zero gradients\n",
    "    optimizer.zero_grad()\n",
    "    \n",
    "    if (epoch + 1) % 10 == 0:\n",
    "        print(f'epoch:{epoch+1}, loss = {loss.item():.4f}')"
   ]
  },
  {
   "cell_type": "code",
   "execution_count": 465,
   "id": "85c45f64",
   "metadata": {},
   "outputs": [
    {
     "name": "stdout",
     "output_type": "stream",
     "text": [
      "accuracy = 0.8802\n"
     ]
    }
   ],
   "source": [
    "with torch.no_grad():\n",
    "    y_predicted = model(X_test_neural)\n",
    "    y_predicted_cls = y_predicted.round()\n",
    "    acc = y_predicted_cls.eq(y_test_neural).sum() / float(y_test_neural.shape[0])\n",
    "    print(f'accuracy = {acc:.4f}')"
   ]
  },
  {
   "cell_type": "code",
   "execution_count": 455,
   "id": "33b997b9",
   "metadata": {},
   "outputs": [
    {
     "data": {
      "text/plain": [
       "torch.Size([10033, 1])"
      ]
     },
     "execution_count": 455,
     "metadata": {},
     "output_type": "execute_result"
    }
   ],
   "source": []
  },
  {
   "cell_type": "markdown",
   "id": "1fb813c4",
   "metadata": {},
   "source": [
    "## Naive Bayes"
   ]
  },
  {
   "cell_type": "markdown",
   "id": "2c0d069d",
   "metadata": {},
   "source": [
    "#### With Dummy Variables"
   ]
  },
  {
   "cell_type": "code",
   "execution_count": null,
   "id": "a5c3f99f",
   "metadata": {},
   "outputs": [],
   "source": [
    "# create bins to classify the target variable into classes\n",
    "\n",
    "bins = [-1, 100, 170, int(np.max(mainData['WLTP CO2']))]\n",
    "labels = ['Low', 'Moderate', 'High']"
   ]
  },
  {
   "cell_type": "code",
   "execution_count": 123,
   "id": "bca48a63",
   "metadata": {},
   "outputs": [],
   "source": [
    "y_train_multi = pd.cut(y_train, bins = bins, labels = labels)\n",
    "y_test_multi = pd.cut(y_test, bins = bins, labels = labels)"
   ]
  },
  {
   "cell_type": "code",
   "execution_count": 124,
   "id": "1d87a9af",
   "metadata": {},
   "outputs": [],
   "source": [
    "naive_model = GaussianNB()"
   ]
  },
  {
   "cell_type": "code",
   "execution_count": 125,
   "id": "2e32d0bb",
   "metadata": {
    "scrolled": true
   },
   "outputs": [
    {
     "data": {
      "text/html": [
       "<style>#sk-container-id-8 {color: black;background-color: white;}#sk-container-id-8 pre{padding: 0;}#sk-container-id-8 div.sk-toggleable {background-color: white;}#sk-container-id-8 label.sk-toggleable__label {cursor: pointer;display: block;width: 100%;margin-bottom: 0;padding: 0.3em;box-sizing: border-box;text-align: center;}#sk-container-id-8 label.sk-toggleable__label-arrow:before {content: \"▸\";float: left;margin-right: 0.25em;color: #696969;}#sk-container-id-8 label.sk-toggleable__label-arrow:hover:before {color: black;}#sk-container-id-8 div.sk-estimator:hover label.sk-toggleable__label-arrow:before {color: black;}#sk-container-id-8 div.sk-toggleable__content {max-height: 0;max-width: 0;overflow: hidden;text-align: left;background-color: #f0f8ff;}#sk-container-id-8 div.sk-toggleable__content pre {margin: 0.2em;color: black;border-radius: 0.25em;background-color: #f0f8ff;}#sk-container-id-8 input.sk-toggleable__control:checked~div.sk-toggleable__content {max-height: 200px;max-width: 100%;overflow: auto;}#sk-container-id-8 input.sk-toggleable__control:checked~label.sk-toggleable__label-arrow:before {content: \"▾\";}#sk-container-id-8 div.sk-estimator input.sk-toggleable__control:checked~label.sk-toggleable__label {background-color: #d4ebff;}#sk-container-id-8 div.sk-label input.sk-toggleable__control:checked~label.sk-toggleable__label {background-color: #d4ebff;}#sk-container-id-8 input.sk-hidden--visually {border: 0;clip: rect(1px 1px 1px 1px);clip: rect(1px, 1px, 1px, 1px);height: 1px;margin: -1px;overflow: hidden;padding: 0;position: absolute;width: 1px;}#sk-container-id-8 div.sk-estimator {font-family: monospace;background-color: #f0f8ff;border: 1px dotted black;border-radius: 0.25em;box-sizing: border-box;margin-bottom: 0.5em;}#sk-container-id-8 div.sk-estimator:hover {background-color: #d4ebff;}#sk-container-id-8 div.sk-parallel-item::after {content: \"\";width: 100%;border-bottom: 1px solid gray;flex-grow: 1;}#sk-container-id-8 div.sk-label:hover label.sk-toggleable__label {background-color: #d4ebff;}#sk-container-id-8 div.sk-serial::before {content: \"\";position: absolute;border-left: 1px solid gray;box-sizing: border-box;top: 0;bottom: 0;left: 50%;z-index: 0;}#sk-container-id-8 div.sk-serial {display: flex;flex-direction: column;align-items: center;background-color: white;padding-right: 0.2em;padding-left: 0.2em;position: relative;}#sk-container-id-8 div.sk-item {position: relative;z-index: 1;}#sk-container-id-8 div.sk-parallel {display: flex;align-items: stretch;justify-content: center;background-color: white;position: relative;}#sk-container-id-8 div.sk-item::before, #sk-container-id-8 div.sk-parallel-item::before {content: \"\";position: absolute;border-left: 1px solid gray;box-sizing: border-box;top: 0;bottom: 0;left: 50%;z-index: -1;}#sk-container-id-8 div.sk-parallel-item {display: flex;flex-direction: column;z-index: 1;position: relative;background-color: white;}#sk-container-id-8 div.sk-parallel-item:first-child::after {align-self: flex-end;width: 50%;}#sk-container-id-8 div.sk-parallel-item:last-child::after {align-self: flex-start;width: 50%;}#sk-container-id-8 div.sk-parallel-item:only-child::after {width: 0;}#sk-container-id-8 div.sk-dashed-wrapped {border: 1px dashed gray;margin: 0 0.4em 0.5em 0.4em;box-sizing: border-box;padding-bottom: 0.4em;background-color: white;}#sk-container-id-8 div.sk-label label {font-family: monospace;font-weight: bold;display: inline-block;line-height: 1.2em;}#sk-container-id-8 div.sk-label-container {text-align: center;}#sk-container-id-8 div.sk-container {/* jupyter's `normalize.less` sets `[hidden] { display: none; }` but bootstrap.min.css set `[hidden] { display: none !important; }` so we also need the `!important` here to be able to override the default hidden behavior on the sphinx rendered scikit-learn.org. See: https://github.com/scikit-learn/scikit-learn/issues/21755 */display: inline-block !important;position: relative;}#sk-container-id-8 div.sk-text-repr-fallback {display: none;}</style><div id=\"sk-container-id-8\" class=\"sk-top-container\"><div class=\"sk-text-repr-fallback\"><pre>GaussianNB()</pre><b>In a Jupyter environment, please rerun this cell to show the HTML representation or trust the notebook. <br />On GitHub, the HTML representation is unable to render, please try loading this page with nbviewer.org.</b></div><div class=\"sk-container\" hidden><div class=\"sk-item\"><div class=\"sk-estimator sk-toggleable\"><input class=\"sk-toggleable__control sk-hidden--visually\" id=\"sk-estimator-id-12\" type=\"checkbox\" checked><label for=\"sk-estimator-id-12\" class=\"sk-toggleable__label sk-toggleable__label-arrow\">GaussianNB</label><div class=\"sk-toggleable__content\"><pre>GaussianNB()</pre></div></div></div></div></div>"
      ],
      "text/plain": [
       "GaussianNB()"
      ]
     },
     "execution_count": 125,
     "metadata": {},
     "output_type": "execute_result"
    }
   ],
   "source": [
    "naive_model.fit(X_train_new, y_train_multi)"
   ]
  },
  {
   "cell_type": "code",
   "execution_count": 198,
   "id": "ff5bf775",
   "metadata": {},
   "outputs": [],
   "source": [
    "y_pred_1_train = naive_model.predict(X_train_new)"
   ]
  },
  {
   "cell_type": "code",
   "execution_count": 199,
   "id": "7e3e18e4",
   "metadata": {},
   "outputs": [
    {
     "data": {
      "text/plain": [
       "70.16844413435662"
      ]
     },
     "execution_count": 199,
     "metadata": {},
     "output_type": "execute_result"
    }
   ],
   "source": [
    "accuracy_1_train = accuracy_score(y_train_multi, y_pred_1_train)*100\n",
    "accuracy_1_train"
   ]
  },
  {
   "cell_type": "code",
   "execution_count": 200,
   "id": "421f0ac0",
   "metadata": {},
   "outputs": [],
   "source": [
    "y_pred_1_test = naive_model.predict(X_test_new)"
   ]
  },
  {
   "cell_type": "code",
   "execution_count": 201,
   "id": "7cf8b454",
   "metadata": {
    "scrolled": true
   },
   "outputs": [
    {
     "data": {
      "text/plain": [
       "69.46511627906978"
      ]
     },
     "execution_count": 201,
     "metadata": {},
     "output_type": "execute_result"
    }
   ],
   "source": [
    "accuracy_1_test = accuracy_score(y_test_multi, y_pred_1_test)*100\n",
    "accuracy_1_test"
   ]
  },
  {
   "cell_type": "code",
   "execution_count": 202,
   "id": "e1c9c723",
   "metadata": {
    "scrolled": true
   },
   "outputs": [
    {
     "data": {
      "text/plain": [
       "array([[ 645,  293,  513],\n",
       "       [   2,  119,    0],\n",
       "       [  33,  472, 2223]])"
      ]
     },
     "execution_count": 202,
     "metadata": {},
     "output_type": "execute_result"
    }
   ],
   "source": [
    "confusion_matrix(y_test_multi, y_pred_naive)"
   ]
  },
  {
   "cell_type": "code",
   "execution_count": null,
   "id": "d4c98e78",
   "metadata": {},
   "outputs": [],
   "source": []
  },
  {
   "cell_type": "code",
   "execution_count": null,
   "id": "a5f76013",
   "metadata": {},
   "outputs": [],
   "source": []
  },
  {
   "cell_type": "markdown",
   "id": "a831c991",
   "metadata": {},
   "source": [
    "#### Without dummy variables"
   ]
  },
  {
   "cell_type": "code",
   "execution_count": 140,
   "id": "3bb6bddb",
   "metadata": {},
   "outputs": [],
   "source": [
    "X_train_naive = train_labelled\n",
    "X_test_naive = test_labelled"
   ]
  },
  {
   "cell_type": "code",
   "execution_count": 151,
   "id": "edcae563",
   "metadata": {},
   "outputs": [],
   "source": [
    "tempData = mainData[['Engine Power (PS)', 'Electric energy consumption Km/kWh',\n",
    "          'WLTP Metric Low', 'WLTP Metric Medium', 'WLTP Metric High', 'WLTP Metric Extra High',\n",
    "          'WLTP Metric Combined', 'WLTP Metric Combined (Weighted)', 'WLTP CO2']]"
   ]
  },
  {
   "cell_type": "code",
   "execution_count": 154,
   "id": "1517dfdb",
   "metadata": {},
   "outputs": [
    {
     "data": {
      "text/plain": [
       "<Axes: >"
      ]
     },
     "execution_count": 154,
     "metadata": {},
     "output_type": "execute_result"
    },
    {
     "data": {
      "image/png": "[encoded data removed]",
      "text/plain": [
       "<Figure size 640x480 with 2 Axes>"
      ]
     },
     "metadata": {},
     "output_type": "display_data"
    }
   ],
   "source": [
    "corr_matrix = tempData.corr()\n",
    "sns.heatmap(corr_matrix[['WLTP CO2']], annot = True)"
   ]
  },
  {
   "cell_type": "code",
   "execution_count": 141,
   "id": "7244ca11",
   "metadata": {},
   "outputs": [],
   "source": [
    "naive_model_2 = GaussianNB()"
   ]
  },
  {
   "cell_type": "code",
   "execution_count": 216,
   "id": "d864f90a",
   "metadata": {
    "scrolled": true
   },
   "outputs": [
    {
     "data": {
      "text/html": [
       "<style>#sk-container-id-16 {color: black;background-color: white;}#sk-container-id-16 pre{padding: 0;}#sk-container-id-16 div.sk-toggleable {background-color: white;}#sk-container-id-16 label.sk-toggleable__label {cursor: pointer;display: block;width: 100%;margin-bottom: 0;padding: 0.3em;box-sizing: border-box;text-align: center;}#sk-container-id-16 label.sk-toggleable__label-arrow:before {content: \"▸\";float: left;margin-right: 0.25em;color: #696969;}#sk-container-id-16 label.sk-toggleable__label-arrow:hover:before {color: black;}#sk-container-id-16 div.sk-estimator:hover label.sk-toggleable__label-arrow:before {color: black;}#sk-container-id-16 div.sk-toggleable__content {max-height: 0;max-width: 0;overflow: hidden;text-align: left;background-color: #f0f8ff;}#sk-container-id-16 div.sk-toggleable__content pre {margin: 0.2em;color: black;border-radius: 0.25em;background-color: #f0f8ff;}#sk-container-id-16 input.sk-toggleable__control:checked~div.sk-toggleable__content {max-height: 200px;max-width: 100%;overflow: auto;}#sk-container-id-16 input.sk-toggleable__control:checked~label.sk-toggleable__label-arrow:before {content: \"▾\";}#sk-container-id-16 div.sk-estimator input.sk-toggleable__control:checked~label.sk-toggleable__label {background-color: #d4ebff;}#sk-container-id-16 div.sk-label input.sk-toggleable__control:checked~label.sk-toggleable__label {background-color: #d4ebff;}#sk-container-id-16 input.sk-hidden--visually {border: 0;clip: rect(1px 1px 1px 1px);clip: rect(1px, 1px, 1px, 1px);height: 1px;margin: -1px;overflow: hidden;padding: 0;position: absolute;width: 1px;}#sk-container-id-16 div.sk-estimator {font-family: monospace;background-color: #f0f8ff;border: 1px dotted black;border-radius: 0.25em;box-sizing: border-box;margin-bottom: 0.5em;}#sk-container-id-16 div.sk-estimator:hover {background-color: #d4ebff;}#sk-container-id-16 div.sk-parallel-item::after {content: \"\";width: 100%;border-bottom: 1px solid gray;flex-grow: 1;}#sk-container-id-16 div.sk-label:hover label.sk-toggleable__label {background-color: #d4ebff;}#sk-container-id-16 div.sk-serial::before {content: \"\";position: absolute;border-left: 1px solid gray;box-sizing: border-box;top: 0;bottom: 0;left: 50%;z-index: 0;}#sk-container-id-16 div.sk-serial {display: flex;flex-direction: column;align-items: center;background-color: white;padding-right: 0.2em;padding-left: 0.2em;position: relative;}#sk-container-id-16 div.sk-item {position: relative;z-index: 1;}#sk-container-id-16 div.sk-parallel {display: flex;align-items: stretch;justify-content: center;background-color: white;position: relative;}#sk-container-id-16 div.sk-item::before, #sk-container-id-16 div.sk-parallel-item::before {content: \"\";position: absolute;border-left: 1px solid gray;box-sizing: border-box;top: 0;bottom: 0;left: 50%;z-index: -1;}#sk-container-id-16 div.sk-parallel-item {display: flex;flex-direction: column;z-index: 1;position: relative;background-color: white;}#sk-container-id-16 div.sk-parallel-item:first-child::after {align-self: flex-end;width: 50%;}#sk-container-id-16 div.sk-parallel-item:last-child::after {align-self: flex-start;width: 50%;}#sk-container-id-16 div.sk-parallel-item:only-child::after {width: 0;}#sk-container-id-16 div.sk-dashed-wrapped {border: 1px dashed gray;margin: 0 0.4em 0.5em 0.4em;box-sizing: border-box;padding-bottom: 0.4em;background-color: white;}#sk-container-id-16 div.sk-label label {font-family: monospace;font-weight: bold;display: inline-block;line-height: 1.2em;}#sk-container-id-16 div.sk-label-container {text-align: center;}#sk-container-id-16 div.sk-container {/* jupyter's `normalize.less` sets `[hidden] { display: none; }` but bootstrap.min.css set `[hidden] { display: none !important; }` so we also need the `!important` here to be able to override the default hidden behavior on the sphinx rendered scikit-learn.org. See: https://github.com/scikit-learn/scikit-learn/issues/21755 */display: inline-block !important;position: relative;}#sk-container-id-16 div.sk-text-repr-fallback {display: none;}</style><div id=\"sk-container-id-16\" class=\"sk-top-container\"><div class=\"sk-text-repr-fallback\"><pre>GaussianNB()</pre><b>In a Jupyter environment, please rerun this cell to show the HTML representation or trust the notebook. <br />On GitHub, the HTML representation is unable to render, please try loading this page with nbviewer.org.</b></div><div class=\"sk-container\" hidden><div class=\"sk-item\"><div class=\"sk-estimator sk-toggleable\"><input class=\"sk-toggleable__control sk-hidden--visually\" id=\"sk-estimator-id-20\" type=\"checkbox\" checked><label for=\"sk-estimator-id-20\" class=\"sk-toggleable__label sk-toggleable__label-arrow\">GaussianNB</label><div class=\"sk-toggleable__content\"><pre>GaussianNB()</pre></div></div></div></div></div>"
      ],
      "text/plain": [
       "GaussianNB()"
      ]
     },
     "execution_count": 216,
     "metadata": {},
     "output_type": "execute_result"
    }
   ],
   "source": [
    "naive_model_2.fit(X_train_naive, y_train_multi)"
   ]
  },
  {
   "cell_type": "code",
   "execution_count": 217,
   "id": "1a9d4894",
   "metadata": {},
   "outputs": [],
   "source": [
    "y_pred_2_train = naive_model_2.predict(train_labelled)"
   ]
  },
  {
   "cell_type": "code",
   "execution_count": 218,
   "id": "d10ea71d",
   "metadata": {},
   "outputs": [
    {
     "data": {
      "text/plain": [
       "89.80364796172631"
      ]
     },
     "execution_count": 218,
     "metadata": {},
     "output_type": "execute_result"
    }
   ],
   "source": [
    "accuracy_2_train = accuracy_score(y_train_multi, y_pred_2_train)*100\n",
    "accuracy_2_train"
   ]
  },
  {
   "cell_type": "code",
   "execution_count": 219,
   "id": "90985f4b",
   "metadata": {},
   "outputs": [],
   "source": [
    "y_pred_2_test = naive_model_2.predict(test_labelled)"
   ]
  },
  {
   "cell_type": "code",
   "execution_count": 220,
   "id": "0366b935",
   "metadata": {},
   "outputs": [
    {
     "data": {
      "text/plain": [
       "88.76744186046511"
      ]
     },
     "execution_count": 220,
     "metadata": {},
     "output_type": "execute_result"
    }
   ],
   "source": [
    "accuracy_2_test =  accuracy_score(y_test_multi, y_pred_2_test)*100\n",
    "accuracy_2_test"
   ]
  },
  {
   "cell_type": "markdown",
   "id": "65bfaf8b",
   "metadata": {},
   "source": [
    "#### With only highest correlated feature"
   ]
  },
  {
   "cell_type": "code",
   "execution_count": 221,
   "id": "2c8bebb8",
   "metadata": {},
   "outputs": [],
   "source": [
    "naive_model_3 = GaussianNB()"
   ]
  },
  {
   "cell_type": "code",
   "execution_count": 222,
   "id": "7ef88b09",
   "metadata": {},
   "outputs": [
    {
     "data": {
      "text/html": [
       "<style>#sk-container-id-17 {color: black;background-color: white;}#sk-container-id-17 pre{padding: 0;}#sk-container-id-17 div.sk-toggleable {background-color: white;}#sk-container-id-17 label.sk-toggleable__label {cursor: pointer;display: block;width: 100%;margin-bottom: 0;padding: 0.3em;box-sizing: border-box;text-align: center;}#sk-container-id-17 label.sk-toggleable__label-arrow:before {content: \"▸\";float: left;margin-right: 0.25em;color: #696969;}#sk-container-id-17 label.sk-toggleable__label-arrow:hover:before {color: black;}#sk-container-id-17 div.sk-estimator:hover label.sk-toggleable__label-arrow:before {color: black;}#sk-container-id-17 div.sk-toggleable__content {max-height: 0;max-width: 0;overflow: hidden;text-align: left;background-color: #f0f8ff;}#sk-container-id-17 div.sk-toggleable__content pre {margin: 0.2em;color: black;border-radius: 0.25em;background-color: #f0f8ff;}#sk-container-id-17 input.sk-toggleable__control:checked~div.sk-toggleable__content {max-height: 200px;max-width: 100%;overflow: auto;}#sk-container-id-17 input.sk-toggleable__control:checked~label.sk-toggleable__label-arrow:before {content: \"▾\";}#sk-container-id-17 div.sk-estimator input.sk-toggleable__control:checked~label.sk-toggleable__label {background-color: #d4ebff;}#sk-container-id-17 div.sk-label input.sk-toggleable__control:checked~label.sk-toggleable__label {background-color: #d4ebff;}#sk-container-id-17 input.sk-hidden--visually {border: 0;clip: rect(1px 1px 1px 1px);clip: rect(1px, 1px, 1px, 1px);height: 1px;margin: -1px;overflow: hidden;padding: 0;position: absolute;width: 1px;}#sk-container-id-17 div.sk-estimator {font-family: monospace;background-color: #f0f8ff;border: 1px dotted black;border-radius: 0.25em;box-sizing: border-box;margin-bottom: 0.5em;}#sk-container-id-17 div.sk-estimator:hover {background-color: #d4ebff;}#sk-container-id-17 div.sk-parallel-item::after {content: \"\";width: 100%;border-bottom: 1px solid gray;flex-grow: 1;}#sk-container-id-17 div.sk-label:hover label.sk-toggleable__label {background-color: #d4ebff;}#sk-container-id-17 div.sk-serial::before {content: \"\";position: absolute;border-left: 1px solid gray;box-sizing: border-box;top: 0;bottom: 0;left: 50%;z-index: 0;}#sk-container-id-17 div.sk-serial {display: flex;flex-direction: column;align-items: center;background-color: white;padding-right: 0.2em;padding-left: 0.2em;position: relative;}#sk-container-id-17 div.sk-item {position: relative;z-index: 1;}#sk-container-id-17 div.sk-parallel {display: flex;align-items: stretch;justify-content: center;background-color: white;position: relative;}#sk-container-id-17 div.sk-item::before, #sk-container-id-17 div.sk-parallel-item::before {content: \"\";position: absolute;border-left: 1px solid gray;box-sizing: border-box;top: 0;bottom: 0;left: 50%;z-index: -1;}#sk-container-id-17 div.sk-parallel-item {display: flex;flex-direction: column;z-index: 1;position: relative;background-color: white;}#sk-container-id-17 div.sk-parallel-item:first-child::after {align-self: flex-end;width: 50%;}#sk-container-id-17 div.sk-parallel-item:last-child::after {align-self: flex-start;width: 50%;}#sk-container-id-17 div.sk-parallel-item:only-child::after {width: 0;}#sk-container-id-17 div.sk-dashed-wrapped {border: 1px dashed gray;margin: 0 0.4em 0.5em 0.4em;box-sizing: border-box;padding-bottom: 0.4em;background-color: white;}#sk-container-id-17 div.sk-label label {font-family: monospace;font-weight: bold;display: inline-block;line-height: 1.2em;}#sk-container-id-17 div.sk-label-container {text-align: center;}#sk-container-id-17 div.sk-container {/* jupyter's `normalize.less` sets `[hidden] { display: none; }` but bootstrap.min.css set `[hidden] { display: none !important; }` so we also need the `!important` here to be able to override the default hidden behavior on the sphinx rendered scikit-learn.org. See: https://github.com/scikit-learn/scikit-learn/issues/21755 */display: inline-block !important;position: relative;}#sk-container-id-17 div.sk-text-repr-fallback {display: none;}</style><div id=\"sk-container-id-17\" class=\"sk-top-container\"><div class=\"sk-text-repr-fallback\"><pre>GaussianNB()</pre><b>In a Jupyter environment, please rerun this cell to show the HTML representation or trust the notebook. <br />On GitHub, the HTML representation is unable to render, please try loading this page with nbviewer.org.</b></div><div class=\"sk-container\" hidden><div class=\"sk-item\"><div class=\"sk-estimator sk-toggleable\"><input class=\"sk-toggleable__control sk-hidden--visually\" id=\"sk-estimator-id-21\" type=\"checkbox\" checked><label for=\"sk-estimator-id-21\" class=\"sk-toggleable__label sk-toggleable__label-arrow\">GaussianNB</label><div class=\"sk-toggleable__content\"><pre>GaussianNB()</pre></div></div></div></div></div>"
      ],
      "text/plain": [
       "GaussianNB()"
      ]
     },
     "execution_count": 222,
     "metadata": {},
     "output_type": "execute_result"
    }
   ],
   "source": [
    "naive_model_3.fit(X_train_naive[['WLTP Metric High']], y_train_multi)"
   ]
  },
  {
   "cell_type": "code",
   "execution_count": 223,
   "id": "d1c78f6a",
   "metadata": {},
   "outputs": [],
   "source": [
    "y_pred_3_train = naive_model_3.predict(X_train_naive[['WLTP Metric High']])"
   ]
  },
  {
   "cell_type": "code",
   "execution_count": 224,
   "id": "11f6db8a",
   "metadata": {},
   "outputs": [
    {
     "data": {
      "text/plain": [
       "90.02292434964617"
      ]
     },
     "execution_count": 224,
     "metadata": {},
     "output_type": "execute_result"
    }
   ],
   "source": [
    "accuracy_3_train = accuracy_score(y_train_multi, y_pred_3_train)*100\n",
    "accuracy_3_train"
   ]
  },
  {
   "cell_type": "code",
   "execution_count": 225,
   "id": "fe55dca3",
   "metadata": {},
   "outputs": [],
   "source": [
    "y_pred_3_test = naive_model_3.predict(X_test_naive[['WLTP Metric High']])"
   ]
  },
  {
   "cell_type": "code",
   "execution_count": 226,
   "id": "4b0da751",
   "metadata": {},
   "outputs": [
    {
     "data": {
      "text/plain": [
       "88.9767441860465"
      ]
     },
     "execution_count": 226,
     "metadata": {},
     "output_type": "execute_result"
    }
   ],
   "source": [
    "accuracy_3_test = accuracy_score(y_test_multi, y_pred_3_test)*100\n",
    "accuracy_3_test"
   ]
  },
  {
   "cell_type": "markdown",
   "id": "de6f2878",
   "metadata": {},
   "source": [
    "#### 2 features"
   ]
  },
  {
   "cell_type": "code",
   "execution_count": 227,
   "id": "3c0bdba9",
   "metadata": {},
   "outputs": [],
   "source": [
    "naive_model_4 = GaussianNB()"
   ]
  },
  {
   "cell_type": "code",
   "execution_count": 228,
   "id": "de9e3d1d",
   "metadata": {},
   "outputs": [
    {
     "data": {
      "text/html": [
       "<style>#sk-container-id-18 {color: black;background-color: white;}#sk-container-id-18 pre{padding: 0;}#sk-container-id-18 div.sk-toggleable {background-color: white;}#sk-container-id-18 label.sk-toggleable__label {cursor: pointer;display: block;width: 100%;margin-bottom: 0;padding: 0.3em;box-sizing: border-box;text-align: center;}#sk-container-id-18 label.sk-toggleable__label-arrow:before {content: \"▸\";float: left;margin-right: 0.25em;color: #696969;}#sk-container-id-18 label.sk-toggleable__label-arrow:hover:before {color: black;}#sk-container-id-18 div.sk-estimator:hover label.sk-toggleable__label-arrow:before {color: black;}#sk-container-id-18 div.sk-toggleable__content {max-height: 0;max-width: 0;overflow: hidden;text-align: left;background-color: #f0f8ff;}#sk-container-id-18 div.sk-toggleable__content pre {margin: 0.2em;color: black;border-radius: 0.25em;background-color: #f0f8ff;}#sk-container-id-18 input.sk-toggleable__control:checked~div.sk-toggleable__content {max-height: 200px;max-width: 100%;overflow: auto;}#sk-container-id-18 input.sk-toggleable__control:checked~label.sk-toggleable__label-arrow:before {content: \"▾\";}#sk-container-id-18 div.sk-estimator input.sk-toggleable__control:checked~label.sk-toggleable__label {background-color: #d4ebff;}#sk-container-id-18 div.sk-label input.sk-toggleable__control:checked~label.sk-toggleable__label {background-color: #d4ebff;}#sk-container-id-18 input.sk-hidden--visually {border: 0;clip: rect(1px 1px 1px 1px);clip: rect(1px, 1px, 1px, 1px);height: 1px;margin: -1px;overflow: hidden;padding: 0;position: absolute;width: 1px;}#sk-container-id-18 div.sk-estimator {font-family: monospace;background-color: #f0f8ff;border: 1px dotted black;border-radius: 0.25em;box-sizing: border-box;margin-bottom: 0.5em;}#sk-container-id-18 div.sk-estimator:hover {background-color: #d4ebff;}#sk-container-id-18 div.sk-parallel-item::after {content: \"\";width: 100%;border-bottom: 1px solid gray;flex-grow: 1;}#sk-container-id-18 div.sk-label:hover label.sk-toggleable__label {background-color: #d4ebff;}#sk-container-id-18 div.sk-serial::before {content: \"\";position: absolute;border-left: 1px solid gray;box-sizing: border-box;top: 0;bottom: 0;left: 50%;z-index: 0;}#sk-container-id-18 div.sk-serial {display: flex;flex-direction: column;align-items: center;background-color: white;padding-right: 0.2em;padding-left: 0.2em;position: relative;}#sk-container-id-18 div.sk-item {position: relative;z-index: 1;}#sk-container-id-18 div.sk-parallel {display: flex;align-items: stretch;justify-content: center;background-color: white;position: relative;}#sk-container-id-18 div.sk-item::before, #sk-container-id-18 div.sk-parallel-item::before {content: \"\";position: absolute;border-left: 1px solid gray;box-sizing: border-box;top: 0;bottom: 0;left: 50%;z-index: -1;}#sk-container-id-18 div.sk-parallel-item {display: flex;flex-direction: column;z-index: 1;position: relative;background-color: white;}#sk-container-id-18 div.sk-parallel-item:first-child::after {align-self: flex-end;width: 50%;}#sk-container-id-18 div.sk-parallel-item:last-child::after {align-self: flex-start;width: 50%;}#sk-container-id-18 div.sk-parallel-item:only-child::after {width: 0;}#sk-container-id-18 div.sk-dashed-wrapped {border: 1px dashed gray;margin: 0 0.4em 0.5em 0.4em;box-sizing: border-box;padding-bottom: 0.4em;background-color: white;}#sk-container-id-18 div.sk-label label {font-family: monospace;font-weight: bold;display: inline-block;line-height: 1.2em;}#sk-container-id-18 div.sk-label-container {text-align: center;}#sk-container-id-18 div.sk-container {/* jupyter's `normalize.less` sets `[hidden] { display: none; }` but bootstrap.min.css set `[hidden] { display: none !important; }` so we also need the `!important` here to be able to override the default hidden behavior on the sphinx rendered scikit-learn.org. See: https://github.com/scikit-learn/scikit-learn/issues/21755 */display: inline-block !important;position: relative;}#sk-container-id-18 div.sk-text-repr-fallback {display: none;}</style><div id=\"sk-container-id-18\" class=\"sk-top-container\"><div class=\"sk-text-repr-fallback\"><pre>GaussianNB()</pre><b>In a Jupyter environment, please rerun this cell to show the HTML representation or trust the notebook. <br />On GitHub, the HTML representation is unable to render, please try loading this page with nbviewer.org.</b></div><div class=\"sk-container\" hidden><div class=\"sk-item\"><div class=\"sk-estimator sk-toggleable\"><input class=\"sk-toggleable__control sk-hidden--visually\" id=\"sk-estimator-id-22\" type=\"checkbox\" checked><label for=\"sk-estimator-id-22\" class=\"sk-toggleable__label sk-toggleable__label-arrow\">GaussianNB</label><div class=\"sk-toggleable__content\"><pre>GaussianNB()</pre></div></div></div></div></div>"
      ],
      "text/plain": [
       "GaussianNB()"
      ]
     },
     "execution_count": 228,
     "metadata": {},
     "output_type": "execute_result"
    }
   ],
   "source": [
    "naive_model_4.fit(X_train_naive[['WLTP Metric High', 'WLTP Metric Combined']], y_train_multi)"
   ]
  },
  {
   "cell_type": "code",
   "execution_count": 229,
   "id": "78753022",
   "metadata": {},
   "outputs": [],
   "source": [
    "y_pred_4_train = naive_model_4.predict(X_train_naive[['WLTP Metric High', 'WLTP Metric Combined']])"
   ]
  },
  {
   "cell_type": "code",
   "execution_count": 230,
   "id": "901a58ce",
   "metadata": {},
   "outputs": [
    {
     "data": {
      "text/plain": [
       "89.90331904714442"
      ]
     },
     "execution_count": 230,
     "metadata": {},
     "output_type": "execute_result"
    }
   ],
   "source": [
    "accuracy_4_train = accuracy_score(y_train_multi, y_pred_4_train)*100\n",
    "accuracy_4_train"
   ]
  },
  {
   "cell_type": "code",
   "execution_count": 231,
   "id": "df27861a",
   "metadata": {},
   "outputs": [],
   "source": [
    "y_pred_4_test = naive_model_4.predict(X_test_naive[['WLTP Metric High', 'WLTP Metric Combined']])"
   ]
  },
  {
   "cell_type": "code",
   "execution_count": 232,
   "id": "c80dd0f9",
   "metadata": {},
   "outputs": [
    {
     "data": {
      "text/plain": [
       "88.90697674418605"
      ]
     },
     "execution_count": 232,
     "metadata": {},
     "output_type": "execute_result"
    }
   ],
   "source": [
    "accuracy_4_test = accuracy_score(y_test_multi, y_pred_4_test)*100\n",
    "accuracy_4_test"
   ]
  },
  {
   "cell_type": "markdown",
   "id": "15c76e2a",
   "metadata": {},
   "source": [
    "#### Three features"
   ]
  },
  {
   "cell_type": "code",
   "execution_count": 233,
   "id": "dbbeeb2b",
   "metadata": {},
   "outputs": [],
   "source": [
    "naive_model_5 = GaussianNB()"
   ]
  },
  {
   "cell_type": "code",
   "execution_count": 234,
   "id": "29e12b20",
   "metadata": {},
   "outputs": [
    {
     "data": {
      "text/html": [
       "<style>#sk-container-id-19 {color: black;background-color: white;}#sk-container-id-19 pre{padding: 0;}#sk-container-id-19 div.sk-toggleable {background-color: white;}#sk-container-id-19 label.sk-toggleable__label {cursor: pointer;display: block;width: 100%;margin-bottom: 0;padding: 0.3em;box-sizing: border-box;text-align: center;}#sk-container-id-19 label.sk-toggleable__label-arrow:before {content: \"▸\";float: left;margin-right: 0.25em;color: #696969;}#sk-container-id-19 label.sk-toggleable__label-arrow:hover:before {color: black;}#sk-container-id-19 div.sk-estimator:hover label.sk-toggleable__label-arrow:before {color: black;}#sk-container-id-19 div.sk-toggleable__content {max-height: 0;max-width: 0;overflow: hidden;text-align: left;background-color: #f0f8ff;}#sk-container-id-19 div.sk-toggleable__content pre {margin: 0.2em;color: black;border-radius: 0.25em;background-color: #f0f8ff;}#sk-container-id-19 input.sk-toggleable__control:checked~div.sk-toggleable__content {max-height: 200px;max-width: 100%;overflow: auto;}#sk-container-id-19 input.sk-toggleable__control:checked~label.sk-toggleable__label-arrow:before {content: \"▾\";}#sk-container-id-19 div.sk-estimator input.sk-toggleable__control:checked~label.sk-toggleable__label {background-color: #d4ebff;}#sk-container-id-19 div.sk-label input.sk-toggleable__control:checked~label.sk-toggleable__label {background-color: #d4ebff;}#sk-container-id-19 input.sk-hidden--visually {border: 0;clip: rect(1px 1px 1px 1px);clip: rect(1px, 1px, 1px, 1px);height: 1px;margin: -1px;overflow: hidden;padding: 0;position: absolute;width: 1px;}#sk-container-id-19 div.sk-estimator {font-family: monospace;background-color: #f0f8ff;border: 1px dotted black;border-radius: 0.25em;box-sizing: border-box;margin-bottom: 0.5em;}#sk-container-id-19 div.sk-estimator:hover {background-color: #d4ebff;}#sk-container-id-19 div.sk-parallel-item::after {content: \"\";width: 100%;border-bottom: 1px solid gray;flex-grow: 1;}#sk-container-id-19 div.sk-label:hover label.sk-toggleable__label {background-color: #d4ebff;}#sk-container-id-19 div.sk-serial::before {content: \"\";position: absolute;border-left: 1px solid gray;box-sizing: border-box;top: 0;bottom: 0;left: 50%;z-index: 0;}#sk-container-id-19 div.sk-serial {display: flex;flex-direction: column;align-items: center;background-color: white;padding-right: 0.2em;padding-left: 0.2em;position: relative;}#sk-container-id-19 div.sk-item {position: relative;z-index: 1;}#sk-container-id-19 div.sk-parallel {display: flex;align-items: stretch;justify-content: center;background-color: white;position: relative;}#sk-container-id-19 div.sk-item::before, #sk-container-id-19 div.sk-parallel-item::before {content: \"\";position: absolute;border-left: 1px solid gray;box-sizing: border-box;top: 0;bottom: 0;left: 50%;z-index: -1;}#sk-container-id-19 div.sk-parallel-item {display: flex;flex-direction: column;z-index: 1;position: relative;background-color: white;}#sk-container-id-19 div.sk-parallel-item:first-child::after {align-self: flex-end;width: 50%;}#sk-container-id-19 div.sk-parallel-item:last-child::after {align-self: flex-start;width: 50%;}#sk-container-id-19 div.sk-parallel-item:only-child::after {width: 0;}#sk-container-id-19 div.sk-dashed-wrapped {border: 1px dashed gray;margin: 0 0.4em 0.5em 0.4em;box-sizing: border-box;padding-bottom: 0.4em;background-color: white;}#sk-container-id-19 div.sk-label label {font-family: monospace;font-weight: bold;display: inline-block;line-height: 1.2em;}#sk-container-id-19 div.sk-label-container {text-align: center;}#sk-container-id-19 div.sk-container {/* jupyter's `normalize.less` sets `[hidden] { display: none; }` but bootstrap.min.css set `[hidden] { display: none !important; }` so we also need the `!important` here to be able to override the default hidden behavior on the sphinx rendered scikit-learn.org. See: https://github.com/scikit-learn/scikit-learn/issues/21755 */display: inline-block !important;position: relative;}#sk-container-id-19 div.sk-text-repr-fallback {display: none;}</style><div id=\"sk-container-id-19\" class=\"sk-top-container\"><div class=\"sk-text-repr-fallback\"><pre>GaussianNB()</pre><b>In a Jupyter environment, please rerun this cell to show the HTML representation or trust the notebook. <br />On GitHub, the HTML representation is unable to render, please try loading this page with nbviewer.org.</b></div><div class=\"sk-container\" hidden><div class=\"sk-item\"><div class=\"sk-estimator sk-toggleable\"><input class=\"sk-toggleable__control sk-hidden--visually\" id=\"sk-estimator-id-23\" type=\"checkbox\" checked><label for=\"sk-estimator-id-23\" class=\"sk-toggleable__label sk-toggleable__label-arrow\">GaussianNB</label><div class=\"sk-toggleable__content\"><pre>GaussianNB()</pre></div></div></div></div></div>"
      ],
      "text/plain": [
       "GaussianNB()"
      ]
     },
     "execution_count": 234,
     "metadata": {},
     "output_type": "execute_result"
    }
   ],
   "source": [
    "naive_model_5.fit(X_train_naive[['WLTP Metric High', 'WLTP Metric Combined', 'WLTP Metric Extra High']], y_train_multi)"
   ]
  },
  {
   "cell_type": "code",
   "execution_count": 235,
   "id": "00e8a4f6",
   "metadata": {},
   "outputs": [],
   "source": [
    "y_pred_5_train = naive_model_5.predict(X_train_naive[['WLTP Metric High', 'WLTP Metric Combined', 'WLTP Metric Extra High']])"
   ]
  },
  {
   "cell_type": "code",
   "execution_count": 236,
   "id": "c4933d7e",
   "metadata": {},
   "outputs": [
    {
     "data": {
      "text/plain": [
       "89.04614771254859"
      ]
     },
     "execution_count": 236,
     "metadata": {},
     "output_type": "execute_result"
    }
   ],
   "source": [
    "accuracy_5_train = accuracy_score(y_train_multi, y_pred_5_train)*100\n",
    "accuracy_5_train"
   ]
  },
  {
   "cell_type": "code",
   "execution_count": 237,
   "id": "2285ef2c",
   "metadata": {},
   "outputs": [],
   "source": [
    "y_pred_5_test = naive_model_5.predict(X_test_naive[['WLTP Metric High', 'WLTP Metric Combined', 'WLTP Metric Extra High']])"
   ]
  },
  {
   "cell_type": "code",
   "execution_count": 238,
   "id": "d6fd7730",
   "metadata": {},
   "outputs": [
    {
     "data": {
      "text/plain": [
       "88.32558139534883"
      ]
     },
     "execution_count": 238,
     "metadata": {},
     "output_type": "execute_result"
    }
   ],
   "source": [
    "accuracy_5_test = accuracy_score(y_test_multi, y_pred_5_test)*100\n",
    "accuracy_5_test"
   ]
  },
  {
   "cell_type": "markdown",
   "id": "007446da",
   "metadata": {},
   "source": [
    "#### plots"
   ]
  },
  {
   "cell_type": "code",
   "execution_count": 239,
   "id": "974e1901",
   "metadata": {},
   "outputs": [],
   "source": [
    "# plot of number of features vs test accuracy\n",
    "\n",
    "test_naive_accuracies = [accuracy_1_test, accuracy_2_test, accuracy_3_test, accuracy_4_test, accuracy_5_test]\n",
    "features = [\"All features\", \"Without Dummy\", 1, 2, 3]"
   ]
  },
  {
   "cell_type": "code",
   "execution_count": 277,
   "id": "66e67833",
   "metadata": {},
   "outputs": [
    {
     "data": {
      "image/png": "[encoded data removed]",
      "text/plain": [
       "<Figure size 640x480 with 1 Axes>"
      ]
     },
     "metadata": {},
     "output_type": "display_data"
    }
   ],
   "source": [
    "max_val = max(test_naive_accuracies)\n",
    "max_index = test_naive_accuracies.index(max_val)\n",
    "\n",
    "plt.plot(features, test_naive_accuracies, \"-+\")\n",
    "plt.annotate(round(max_val, 2), (features[max_index], max_val), textcoords=\"offset points\", xytext=(0, -20), ha='left')\n",
    "plt.annotate(round(test_naive_accuracies[2], 3), (features[3], test_naive_accuracies[3]), textcoords=\"offset points\", xytext=(0, -20), ha='left')\n",
    "plt.grid(True)\n",
    "plt.ylim(0,100)\n",
    "plt.show()"
   ]
  },
  {
   "cell_type": "code",
   "execution_count": null,
   "id": "beb30191",
   "metadata": {},
   "outputs": [],
   "source": []
  },
  {
   "cell_type": "code",
   "execution_count": 259,
   "id": "aa4e4636",
   "metadata": {},
   "outputs": [],
   "source": [
    "# plot of number of features vs train accuracy\n",
    "\n",
    "train_naive_accuracies = [accuracy_1_train, accuracy_2_train, accuracy_3_train, accuracy_4_train, accuracy_5_train]\n",
    "features = [\"All features\", \"Without Dummy\", 1, 2, 3]"
   ]
  },
  {
   "cell_type": "code",
   "execution_count": 278,
   "id": "62d58d3b",
   "metadata": {},
   "outputs": [
    {
     "data": {
      "image/png": "[encoded data removed]",
      "text/plain": [
       "<Figure size 640x480 with 1 Axes>"
      ]
     },
     "metadata": {},
     "output_type": "display_data"
    }
   ],
   "source": [
    "max_val = max(train_naive_accuracies)\n",
    "max_index = train_naive_accuracies.index(max_val)\n",
    "\n",
    "plt.plot(features, train_naive_accuracies, \"-+\")\n",
    "plt.annotate(round(max_val, 2), (features[max_index], max_val), textcoords=\"offset points\", xytext=(0, -20), ha='left')\n",
    "plt.annotate(round(train_naive_accuracies[2], 3), (features[3], train_naive_accuracies[3]), textcoords=\"offset points\", xytext=(0, -20), ha='left')\n",
    "plt.grid(True)\n",
    "plt.ylim(0,100)\n",
    "plt.xlabel(\"Number of features\")\n",
    "plt.ylabel(\"Accuracy\")\n",
    "plt.show()"
   ]
  },
  {
   "cell_type": "code",
   "execution_count": null,
   "id": "8e82236b",
   "metadata": {},
   "outputs": [],
   "source": []
  },
  {
   "cell_type": "code",
   "execution_count": null,
   "id": "a63e0f7a",
   "metadata": {},
   "outputs": [],
   "source": [
    "test_naive_accuracies = [accuracy_1_test, accuracy_2_test, accuracy_3_test, accuracy_4_test, accuracy_5_test]\n",
    "train_naive_accuracies = [accuracy_1_train, accuracy_2_train, accuracy_3_train, accuracy_4_train, accuracy_5_train]\n",
    "features = [\"All features\", \"Without Dummy\", 1, 2, 3]"
   ]
  },
  {
   "cell_type": "code",
   "execution_count": 285,
   "id": "012b5634",
   "metadata": {},
   "outputs": [
    {
     "data": {
      "image/png": "[encoded data removed]",
      "text/plain": [
       "<Figure size 640x480 with 1 Axes>"
      ]
     },
     "metadata": {},
     "output_type": "display_data"
    }
   ],
   "source": [
    "plt.plot(features, test_naive_accuracies, \"-o\")\n",
    "plt.plot(features, train_naive_accuracies, \"-x\")\n",
    "plt.grid(True)\n",
    "plt.legend([\"Test\", \"Train\"])\n",
    "plt.ylim(0,100)\n",
    "plt.xlabel(\"Number of features\")\n",
    "plt.ylabel(\"Accuracy\")\n",
    "plt.show()"
   ]
  },
  {
   "cell_type": "code",
   "execution_count": null,
   "id": "52dd6efa",
   "metadata": {},
   "outputs": [],
   "source": []
  }
 ],
 "metadata": {
  "kernelspec": {
   "display_name": "Python 3 (ipykernel)",
   "language": "python",
   "name": "python3"
  },
  "language_info": {
   "codemirror_mode": {
    "name": "ipython",
    "version": 3
   },
   "file_extension": ".py",
   "mimetype": "text/x-python",
   "name": "python",
   "nbconvert_exporter": "python",
   "pygments_lexer": "ipython3",
   "version": "3.9.16"
  }
 },
 "nbformat": 4,
 "nbformat_minor": 5
}
